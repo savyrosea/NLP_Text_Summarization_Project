{
  "nbformat": 4,
  "nbformat_minor": 0,
  "metadata": {
    "colab": {
      "name": "Pegasus_project_text_summary.ipynb",
      "provenance": [],
      "collapsed_sections": []
    },
    "kernelspec": {
      "name": "python3",
      "display_name": "Python 3"
    },
    "widgets": {
      "application/vnd.jupyter.widget-state+json": {
        "886d358786dd4eaaa83843313786827c": {
          "model_module": "@jupyter-widgets/controls",
          "model_name": "HBoxModel",
          "state": {
            "_view_name": "HBoxView",
            "_dom_classes": [],
            "_model_name": "HBoxModel",
            "_view_module": "@jupyter-widgets/controls",
            "_model_module_version": "1.5.0",
            "_view_count": null,
            "_view_module_version": "1.5.0",
            "box_style": "",
            "layout": "IPY_MODEL_ba5efb0c1ea647fba36e03b61801dc6b",
            "_model_module": "@jupyter-widgets/controls",
            "children": [
              "IPY_MODEL_0e70faee1c28421197e7ef40644e07d8",
              "IPY_MODEL_76110c1f208d4f9e8ac3ec9453806510"
            ]
          }
        },
        "ba5efb0c1ea647fba36e03b61801dc6b": {
          "model_module": "@jupyter-widgets/base",
          "model_name": "LayoutModel",
          "state": {
            "_view_name": "LayoutView",
            "grid_template_rows": null,
            "right": null,
            "justify_content": null,
            "_view_module": "@jupyter-widgets/base",
            "overflow": null,
            "_model_module_version": "1.2.0",
            "_view_count": null,
            "flex_flow": null,
            "width": null,
            "min_width": null,
            "border": null,
            "align_items": null,
            "bottom": null,
            "_model_module": "@jupyter-widgets/base",
            "top": null,
            "grid_column": null,
            "overflow_y": null,
            "overflow_x": null,
            "grid_auto_flow": null,
            "grid_area": null,
            "grid_template_columns": null,
            "flex": null,
            "_model_name": "LayoutModel",
            "justify_items": null,
            "grid_row": null,
            "max_height": null,
            "align_content": null,
            "visibility": null,
            "align_self": null,
            "height": null,
            "min_height": null,
            "padding": null,
            "grid_auto_rows": null,
            "grid_gap": null,
            "max_width": null,
            "order": null,
            "_view_module_version": "1.2.0",
            "grid_template_areas": null,
            "object_position": null,
            "object_fit": null,
            "grid_auto_columns": null,
            "margin": null,
            "display": null,
            "left": null
          }
        },
        "0e70faee1c28421197e7ef40644e07d8": {
          "model_module": "@jupyter-widgets/controls",
          "model_name": "FloatProgressModel",
          "state": {
            "_view_name": "ProgressView",
            "style": "IPY_MODEL_b915a2b441ef4145a3e8188eb393acfb",
            "_dom_classes": [],
            "description": "Downloading: 100%",
            "_model_name": "FloatProgressModel",
            "bar_style": "success",
            "max": 1912529,
            "_view_module": "@jupyter-widgets/controls",
            "_model_module_version": "1.5.0",
            "value": 1912529,
            "_view_count": null,
            "_view_module_version": "1.5.0",
            "orientation": "horizontal",
            "min": 0,
            "description_tooltip": null,
            "_model_module": "@jupyter-widgets/controls",
            "layout": "IPY_MODEL_1f74fb327f82407fa4c8fda6c1a98095"
          }
        },
        "76110c1f208d4f9e8ac3ec9453806510": {
          "model_module": "@jupyter-widgets/controls",
          "model_name": "HTMLModel",
          "state": {
            "_view_name": "HTMLView",
            "style": "IPY_MODEL_0e640cb610c241c1a26be0c15579a036",
            "_dom_classes": [],
            "description": "",
            "_model_name": "HTMLModel",
            "placeholder": "​",
            "_view_module": "@jupyter-widgets/controls",
            "_model_module_version": "1.5.0",
            "value": " 1.91M/1.91M [01:04&lt;00:00, 29.7kB/s]",
            "_view_count": null,
            "_view_module_version": "1.5.0",
            "description_tooltip": null,
            "_model_module": "@jupyter-widgets/controls",
            "layout": "IPY_MODEL_e6166efa12644bcabe0aba31e1b77b32"
          }
        },
        "b915a2b441ef4145a3e8188eb393acfb": {
          "model_module": "@jupyter-widgets/controls",
          "model_name": "ProgressStyleModel",
          "state": {
            "_view_name": "StyleView",
            "_model_name": "ProgressStyleModel",
            "description_width": "initial",
            "_view_module": "@jupyter-widgets/base",
            "_model_module_version": "1.5.0",
            "_view_count": null,
            "_view_module_version": "1.2.0",
            "bar_color": null,
            "_model_module": "@jupyter-widgets/controls"
          }
        },
        "1f74fb327f82407fa4c8fda6c1a98095": {
          "model_module": "@jupyter-widgets/base",
          "model_name": "LayoutModel",
          "state": {
            "_view_name": "LayoutView",
            "grid_template_rows": null,
            "right": null,
            "justify_content": null,
            "_view_module": "@jupyter-widgets/base",
            "overflow": null,
            "_model_module_version": "1.2.0",
            "_view_count": null,
            "flex_flow": null,
            "width": null,
            "min_width": null,
            "border": null,
            "align_items": null,
            "bottom": null,
            "_model_module": "@jupyter-widgets/base",
            "top": null,
            "grid_column": null,
            "overflow_y": null,
            "overflow_x": null,
            "grid_auto_flow": null,
            "grid_area": null,
            "grid_template_columns": null,
            "flex": null,
            "_model_name": "LayoutModel",
            "justify_items": null,
            "grid_row": null,
            "max_height": null,
            "align_content": null,
            "visibility": null,
            "align_self": null,
            "height": null,
            "min_height": null,
            "padding": null,
            "grid_auto_rows": null,
            "grid_gap": null,
            "max_width": null,
            "order": null,
            "_view_module_version": "1.2.0",
            "grid_template_areas": null,
            "object_position": null,
            "object_fit": null,
            "grid_auto_columns": null,
            "margin": null,
            "display": null,
            "left": null
          }
        },
        "0e640cb610c241c1a26be0c15579a036": {
          "model_module": "@jupyter-widgets/controls",
          "model_name": "DescriptionStyleModel",
          "state": {
            "_view_name": "StyleView",
            "_model_name": "DescriptionStyleModel",
            "description_width": "",
            "_view_module": "@jupyter-widgets/base",
            "_model_module_version": "1.5.0",
            "_view_count": null,
            "_view_module_version": "1.2.0",
            "_model_module": "@jupyter-widgets/controls"
          }
        },
        "e6166efa12644bcabe0aba31e1b77b32": {
          "model_module": "@jupyter-widgets/base",
          "model_name": "LayoutModel",
          "state": {
            "_view_name": "LayoutView",
            "grid_template_rows": null,
            "right": null,
            "justify_content": null,
            "_view_module": "@jupyter-widgets/base",
            "overflow": null,
            "_model_module_version": "1.2.0",
            "_view_count": null,
            "flex_flow": null,
            "width": null,
            "min_width": null,
            "border": null,
            "align_items": null,
            "bottom": null,
            "_model_module": "@jupyter-widgets/base",
            "top": null,
            "grid_column": null,
            "overflow_y": null,
            "overflow_x": null,
            "grid_auto_flow": null,
            "grid_area": null,
            "grid_template_columns": null,
            "flex": null,
            "_model_name": "LayoutModel",
            "justify_items": null,
            "grid_row": null,
            "max_height": null,
            "align_content": null,
            "visibility": null,
            "align_self": null,
            "height": null,
            "min_height": null,
            "padding": null,
            "grid_auto_rows": null,
            "grid_gap": null,
            "max_width": null,
            "order": null,
            "_view_module_version": "1.2.0",
            "grid_template_areas": null,
            "object_position": null,
            "object_fit": null,
            "grid_auto_columns": null,
            "margin": null,
            "display": null,
            "left": null
          }
        },
        "bdf91f91b17f45c493ce6dc0abb98fb6": {
          "model_module": "@jupyter-widgets/controls",
          "model_name": "HBoxModel",
          "state": {
            "_view_name": "HBoxView",
            "_dom_classes": [],
            "_model_name": "HBoxModel",
            "_view_module": "@jupyter-widgets/controls",
            "_model_module_version": "1.5.0",
            "_view_count": null,
            "_view_module_version": "1.5.0",
            "box_style": "",
            "layout": "IPY_MODEL_ff69f2e167e44a268d3ccafcd2be5866",
            "_model_module": "@jupyter-widgets/controls",
            "children": [
              "IPY_MODEL_5f1536cf2bcf4c418f9d93cf5d115c6d",
              "IPY_MODEL_1e28d33a59d141f8b8ca7d808fad644b"
            ]
          }
        },
        "ff69f2e167e44a268d3ccafcd2be5866": {
          "model_module": "@jupyter-widgets/base",
          "model_name": "LayoutModel",
          "state": {
            "_view_name": "LayoutView",
            "grid_template_rows": null,
            "right": null,
            "justify_content": null,
            "_view_module": "@jupyter-widgets/base",
            "overflow": null,
            "_model_module_version": "1.2.0",
            "_view_count": null,
            "flex_flow": null,
            "width": null,
            "min_width": null,
            "border": null,
            "align_items": null,
            "bottom": null,
            "_model_module": "@jupyter-widgets/base",
            "top": null,
            "grid_column": null,
            "overflow_y": null,
            "overflow_x": null,
            "grid_auto_flow": null,
            "grid_area": null,
            "grid_template_columns": null,
            "flex": null,
            "_model_name": "LayoutModel",
            "justify_items": null,
            "grid_row": null,
            "max_height": null,
            "align_content": null,
            "visibility": null,
            "align_self": null,
            "height": null,
            "min_height": null,
            "padding": null,
            "grid_auto_rows": null,
            "grid_gap": null,
            "max_width": null,
            "order": null,
            "_view_module_version": "1.2.0",
            "grid_template_areas": null,
            "object_position": null,
            "object_fit": null,
            "grid_auto_columns": null,
            "margin": null,
            "display": null,
            "left": null
          }
        },
        "5f1536cf2bcf4c418f9d93cf5d115c6d": {
          "model_module": "@jupyter-widgets/controls",
          "model_name": "FloatProgressModel",
          "state": {
            "_view_name": "ProgressView",
            "style": "IPY_MODEL_3354c7bde7a445ef9c0bf0d595dd39b1",
            "_dom_classes": [],
            "description": "Downloading: 100%",
            "_model_name": "FloatProgressModel",
            "bar_style": "success",
            "max": 1362,
            "_view_module": "@jupyter-widgets/controls",
            "_model_module_version": "1.5.0",
            "value": 1362,
            "_view_count": null,
            "_view_module_version": "1.5.0",
            "orientation": "horizontal",
            "min": 0,
            "description_tooltip": null,
            "_model_module": "@jupyter-widgets/controls",
            "layout": "IPY_MODEL_c9da0258c98d4b09a6645c18ce10210c"
          }
        },
        "1e28d33a59d141f8b8ca7d808fad644b": {
          "model_module": "@jupyter-widgets/controls",
          "model_name": "HTMLModel",
          "state": {
            "_view_name": "HTMLView",
            "style": "IPY_MODEL_e4ed71320909497cb363a7f8f4fd2c3f",
            "_dom_classes": [],
            "description": "",
            "_model_name": "HTMLModel",
            "placeholder": "​",
            "_view_module": "@jupyter-widgets/controls",
            "_model_module_version": "1.5.0",
            "value": " 1.36k/1.36k [00:00&lt;00:00, 2.19kB/s]",
            "_view_count": null,
            "_view_module_version": "1.5.0",
            "description_tooltip": null,
            "_model_module": "@jupyter-widgets/controls",
            "layout": "IPY_MODEL_342c4cfcad5d443eaf2a7b9e0184bec4"
          }
        },
        "3354c7bde7a445ef9c0bf0d595dd39b1": {
          "model_module": "@jupyter-widgets/controls",
          "model_name": "ProgressStyleModel",
          "state": {
            "_view_name": "StyleView",
            "_model_name": "ProgressStyleModel",
            "description_width": "initial",
            "_view_module": "@jupyter-widgets/base",
            "_model_module_version": "1.5.0",
            "_view_count": null,
            "_view_module_version": "1.2.0",
            "bar_color": null,
            "_model_module": "@jupyter-widgets/controls"
          }
        },
        "c9da0258c98d4b09a6645c18ce10210c": {
          "model_module": "@jupyter-widgets/base",
          "model_name": "LayoutModel",
          "state": {
            "_view_name": "LayoutView",
            "grid_template_rows": null,
            "right": null,
            "justify_content": null,
            "_view_module": "@jupyter-widgets/base",
            "overflow": null,
            "_model_module_version": "1.2.0",
            "_view_count": null,
            "flex_flow": null,
            "width": null,
            "min_width": null,
            "border": null,
            "align_items": null,
            "bottom": null,
            "_model_module": "@jupyter-widgets/base",
            "top": null,
            "grid_column": null,
            "overflow_y": null,
            "overflow_x": null,
            "grid_auto_flow": null,
            "grid_area": null,
            "grid_template_columns": null,
            "flex": null,
            "_model_name": "LayoutModel",
            "justify_items": null,
            "grid_row": null,
            "max_height": null,
            "align_content": null,
            "visibility": null,
            "align_self": null,
            "height": null,
            "min_height": null,
            "padding": null,
            "grid_auto_rows": null,
            "grid_gap": null,
            "max_width": null,
            "order": null,
            "_view_module_version": "1.2.0",
            "grid_template_areas": null,
            "object_position": null,
            "object_fit": null,
            "grid_auto_columns": null,
            "margin": null,
            "display": null,
            "left": null
          }
        },
        "e4ed71320909497cb363a7f8f4fd2c3f": {
          "model_module": "@jupyter-widgets/controls",
          "model_name": "DescriptionStyleModel",
          "state": {
            "_view_name": "StyleView",
            "_model_name": "DescriptionStyleModel",
            "description_width": "",
            "_view_module": "@jupyter-widgets/base",
            "_model_module_version": "1.5.0",
            "_view_count": null,
            "_view_module_version": "1.2.0",
            "_model_module": "@jupyter-widgets/controls"
          }
        },
        "342c4cfcad5d443eaf2a7b9e0184bec4": {
          "model_module": "@jupyter-widgets/base",
          "model_name": "LayoutModel",
          "state": {
            "_view_name": "LayoutView",
            "grid_template_rows": null,
            "right": null,
            "justify_content": null,
            "_view_module": "@jupyter-widgets/base",
            "overflow": null,
            "_model_module_version": "1.2.0",
            "_view_count": null,
            "flex_flow": null,
            "width": null,
            "min_width": null,
            "border": null,
            "align_items": null,
            "bottom": null,
            "_model_module": "@jupyter-widgets/base",
            "top": null,
            "grid_column": null,
            "overflow_y": null,
            "overflow_x": null,
            "grid_auto_flow": null,
            "grid_area": null,
            "grid_template_columns": null,
            "flex": null,
            "_model_name": "LayoutModel",
            "justify_items": null,
            "grid_row": null,
            "max_height": null,
            "align_content": null,
            "visibility": null,
            "align_self": null,
            "height": null,
            "min_height": null,
            "padding": null,
            "grid_auto_rows": null,
            "grid_gap": null,
            "max_width": null,
            "order": null,
            "_view_module_version": "1.2.0",
            "grid_template_areas": null,
            "object_position": null,
            "object_fit": null,
            "grid_auto_columns": null,
            "margin": null,
            "display": null,
            "left": null
          }
        },
        "fb128d15e3b14f59968026ef66cd7cf4": {
          "model_module": "@jupyter-widgets/controls",
          "model_name": "HBoxModel",
          "state": {
            "_view_name": "HBoxView",
            "_dom_classes": [],
            "_model_name": "HBoxModel",
            "_view_module": "@jupyter-widgets/controls",
            "_model_module_version": "1.5.0",
            "_view_count": null,
            "_view_module_version": "1.5.0",
            "box_style": "",
            "layout": "IPY_MODEL_8fc3bdf9fa894ae1aaa786410750cb1d",
            "_model_module": "@jupyter-widgets/controls",
            "children": [
              "IPY_MODEL_90058cf6c9464eebbbd9eb8c0594357e",
              "IPY_MODEL_9fb98233416348a5a7ed88bc565f1292"
            ]
          }
        },
        "8fc3bdf9fa894ae1aaa786410750cb1d": {
          "model_module": "@jupyter-widgets/base",
          "model_name": "LayoutModel",
          "state": {
            "_view_name": "LayoutView",
            "grid_template_rows": null,
            "right": null,
            "justify_content": null,
            "_view_module": "@jupyter-widgets/base",
            "overflow": null,
            "_model_module_version": "1.2.0",
            "_view_count": null,
            "flex_flow": null,
            "width": null,
            "min_width": null,
            "border": null,
            "align_items": null,
            "bottom": null,
            "_model_module": "@jupyter-widgets/base",
            "top": null,
            "grid_column": null,
            "overflow_y": null,
            "overflow_x": null,
            "grid_auto_flow": null,
            "grid_area": null,
            "grid_template_columns": null,
            "flex": null,
            "_model_name": "LayoutModel",
            "justify_items": null,
            "grid_row": null,
            "max_height": null,
            "align_content": null,
            "visibility": null,
            "align_self": null,
            "height": null,
            "min_height": null,
            "padding": null,
            "grid_auto_rows": null,
            "grid_gap": null,
            "max_width": null,
            "order": null,
            "_view_module_version": "1.2.0",
            "grid_template_areas": null,
            "object_position": null,
            "object_fit": null,
            "grid_auto_columns": null,
            "margin": null,
            "display": null,
            "left": null
          }
        },
        "90058cf6c9464eebbbd9eb8c0594357e": {
          "model_module": "@jupyter-widgets/controls",
          "model_name": "FloatProgressModel",
          "state": {
            "_view_name": "ProgressView",
            "style": "IPY_MODEL_60fd722af6ce4d689199b2a92e8aa753",
            "_dom_classes": [],
            "description": "Downloading: 100%",
            "_model_name": "FloatProgressModel",
            "bar_style": "success",
            "max": 2275329241,
            "_view_module": "@jupyter-widgets/controls",
            "_model_module_version": "1.5.0",
            "value": 2275329241,
            "_view_count": null,
            "_view_module_version": "1.5.0",
            "orientation": "horizontal",
            "min": 0,
            "description_tooltip": null,
            "_model_module": "@jupyter-widgets/controls",
            "layout": "IPY_MODEL_7b62a4bc9f4e4c7d946dfefe1b18ce39"
          }
        },
        "9fb98233416348a5a7ed88bc565f1292": {
          "model_module": "@jupyter-widgets/controls",
          "model_name": "HTMLModel",
          "state": {
            "_view_name": "HTMLView",
            "style": "IPY_MODEL_5456163d86434d7d8ccbeeb16e58b175",
            "_dom_classes": [],
            "description": "",
            "_model_name": "HTMLModel",
            "placeholder": "​",
            "_view_module": "@jupyter-widgets/controls",
            "_model_module_version": "1.5.0",
            "value": " 2.28G/2.28G [01:03&lt;00:00, 35.9MB/s]",
            "_view_count": null,
            "_view_module_version": "1.5.0",
            "description_tooltip": null,
            "_model_module": "@jupyter-widgets/controls",
            "layout": "IPY_MODEL_61e4bd066b8e4eb38f704b6cdc03efd7"
          }
        },
        "60fd722af6ce4d689199b2a92e8aa753": {
          "model_module": "@jupyter-widgets/controls",
          "model_name": "ProgressStyleModel",
          "state": {
            "_view_name": "StyleView",
            "_model_name": "ProgressStyleModel",
            "description_width": "initial",
            "_view_module": "@jupyter-widgets/base",
            "_model_module_version": "1.5.0",
            "_view_count": null,
            "_view_module_version": "1.2.0",
            "bar_color": null,
            "_model_module": "@jupyter-widgets/controls"
          }
        },
        "7b62a4bc9f4e4c7d946dfefe1b18ce39": {
          "model_module": "@jupyter-widgets/base",
          "model_name": "LayoutModel",
          "state": {
            "_view_name": "LayoutView",
            "grid_template_rows": null,
            "right": null,
            "justify_content": null,
            "_view_module": "@jupyter-widgets/base",
            "overflow": null,
            "_model_module_version": "1.2.0",
            "_view_count": null,
            "flex_flow": null,
            "width": null,
            "min_width": null,
            "border": null,
            "align_items": null,
            "bottom": null,
            "_model_module": "@jupyter-widgets/base",
            "top": null,
            "grid_column": null,
            "overflow_y": null,
            "overflow_x": null,
            "grid_auto_flow": null,
            "grid_area": null,
            "grid_template_columns": null,
            "flex": null,
            "_model_name": "LayoutModel",
            "justify_items": null,
            "grid_row": null,
            "max_height": null,
            "align_content": null,
            "visibility": null,
            "align_self": null,
            "height": null,
            "min_height": null,
            "padding": null,
            "grid_auto_rows": null,
            "grid_gap": null,
            "max_width": null,
            "order": null,
            "_view_module_version": "1.2.0",
            "grid_template_areas": null,
            "object_position": null,
            "object_fit": null,
            "grid_auto_columns": null,
            "margin": null,
            "display": null,
            "left": null
          }
        },
        "5456163d86434d7d8ccbeeb16e58b175": {
          "model_module": "@jupyter-widgets/controls",
          "model_name": "DescriptionStyleModel",
          "state": {
            "_view_name": "StyleView",
            "_model_name": "DescriptionStyleModel",
            "description_width": "",
            "_view_module": "@jupyter-widgets/base",
            "_model_module_version": "1.5.0",
            "_view_count": null,
            "_view_module_version": "1.2.0",
            "_model_module": "@jupyter-widgets/controls"
          }
        },
        "61e4bd066b8e4eb38f704b6cdc03efd7": {
          "model_module": "@jupyter-widgets/base",
          "model_name": "LayoutModel",
          "state": {
            "_view_name": "LayoutView",
            "grid_template_rows": null,
            "right": null,
            "justify_content": null,
            "_view_module": "@jupyter-widgets/base",
            "overflow": null,
            "_model_module_version": "1.2.0",
            "_view_count": null,
            "flex_flow": null,
            "width": null,
            "min_width": null,
            "border": null,
            "align_items": null,
            "bottom": null,
            "_model_module": "@jupyter-widgets/base",
            "top": null,
            "grid_column": null,
            "overflow_y": null,
            "overflow_x": null,
            "grid_auto_flow": null,
            "grid_area": null,
            "grid_template_columns": null,
            "flex": null,
            "_model_name": "LayoutModel",
            "justify_items": null,
            "grid_row": null,
            "max_height": null,
            "align_content": null,
            "visibility": null,
            "align_self": null,
            "height": null,
            "min_height": null,
            "padding": null,
            "grid_auto_rows": null,
            "grid_gap": null,
            "max_width": null,
            "order": null,
            "_view_module_version": "1.2.0",
            "grid_template_areas": null,
            "object_position": null,
            "object_fit": null,
            "grid_auto_columns": null,
            "margin": null,
            "display": null,
            "left": null
          }
        },
        "785909a56dbb4b068f6665ad3a2bd5d9": {
          "model_module": "@jupyter-widgets/controls",
          "model_name": "HBoxModel",
          "state": {
            "_view_name": "HBoxView",
            "_dom_classes": [],
            "_model_name": "HBoxModel",
            "_view_module": "@jupyter-widgets/controls",
            "_model_module_version": "1.5.0",
            "_view_count": null,
            "_view_module_version": "1.5.0",
            "box_style": "",
            "layout": "IPY_MODEL_a90e42eebe074237835ea4df4a933a38",
            "_model_module": "@jupyter-widgets/controls",
            "children": [
              "IPY_MODEL_b9666edc365d4ca5b09417ed92abf193",
              "IPY_MODEL_21e2a7a9765143a09883c9643c3b2bf7"
            ]
          }
        },
        "a90e42eebe074237835ea4df4a933a38": {
          "model_module": "@jupyter-widgets/base",
          "model_name": "LayoutModel",
          "state": {
            "_view_name": "LayoutView",
            "grid_template_rows": null,
            "right": null,
            "justify_content": null,
            "_view_module": "@jupyter-widgets/base",
            "overflow": null,
            "_model_module_version": "1.2.0",
            "_view_count": null,
            "flex_flow": null,
            "width": null,
            "min_width": null,
            "border": null,
            "align_items": null,
            "bottom": null,
            "_model_module": "@jupyter-widgets/base",
            "top": null,
            "grid_column": null,
            "overflow_y": null,
            "overflow_x": null,
            "grid_auto_flow": null,
            "grid_area": null,
            "grid_template_columns": null,
            "flex": null,
            "_model_name": "LayoutModel",
            "justify_items": null,
            "grid_row": null,
            "max_height": null,
            "align_content": null,
            "visibility": null,
            "align_self": null,
            "height": null,
            "min_height": null,
            "padding": null,
            "grid_auto_rows": null,
            "grid_gap": null,
            "max_width": null,
            "order": null,
            "_view_module_version": "1.2.0",
            "grid_template_areas": null,
            "object_position": null,
            "object_fit": null,
            "grid_auto_columns": null,
            "margin": null,
            "display": null,
            "left": null
          }
        },
        "b9666edc365d4ca5b09417ed92abf193": {
          "model_module": "@jupyter-widgets/controls",
          "model_name": "FloatProgressModel",
          "state": {
            "_view_name": "ProgressView",
            "style": "IPY_MODEL_132cdf644cb04fb9a2368cc5cd5492ab",
            "_dom_classes": [],
            "description": "100%",
            "_model_name": "FloatProgressModel",
            "bar_style": "success",
            "max": 10,
            "_view_module": "@jupyter-widgets/controls",
            "_model_module_version": "1.5.0",
            "value": 10,
            "_view_count": null,
            "_view_module_version": "1.5.0",
            "orientation": "horizontal",
            "min": 0,
            "description_tooltip": null,
            "_model_module": "@jupyter-widgets/controls",
            "layout": "IPY_MODEL_4c7e32cf68b8460bafac6c87fff627c3"
          }
        },
        "21e2a7a9765143a09883c9643c3b2bf7": {
          "model_module": "@jupyter-widgets/controls",
          "model_name": "HTMLModel",
          "state": {
            "_view_name": "HTMLView",
            "style": "IPY_MODEL_1025c27d51314507801088284edff5bc",
            "_dom_classes": [],
            "description": "",
            "_model_name": "HTMLModel",
            "placeholder": "​",
            "_view_module": "@jupyter-widgets/controls",
            "_model_module_version": "1.5.0",
            "value": " 10/10 [07:01&lt;00:00, 42.12s/it]",
            "_view_count": null,
            "_view_module_version": "1.5.0",
            "description_tooltip": null,
            "_model_module": "@jupyter-widgets/controls",
            "layout": "IPY_MODEL_db2ceb033f8b4ed8ad489f7d82a1b4f6"
          }
        },
        "132cdf644cb04fb9a2368cc5cd5492ab": {
          "model_module": "@jupyter-widgets/controls",
          "model_name": "ProgressStyleModel",
          "state": {
            "_view_name": "StyleView",
            "_model_name": "ProgressStyleModel",
            "description_width": "initial",
            "_view_module": "@jupyter-widgets/base",
            "_model_module_version": "1.5.0",
            "_view_count": null,
            "_view_module_version": "1.2.0",
            "bar_color": null,
            "_model_module": "@jupyter-widgets/controls"
          }
        },
        "4c7e32cf68b8460bafac6c87fff627c3": {
          "model_module": "@jupyter-widgets/base",
          "model_name": "LayoutModel",
          "state": {
            "_view_name": "LayoutView",
            "grid_template_rows": null,
            "right": null,
            "justify_content": null,
            "_view_module": "@jupyter-widgets/base",
            "overflow": null,
            "_model_module_version": "1.2.0",
            "_view_count": null,
            "flex_flow": null,
            "width": null,
            "min_width": null,
            "border": null,
            "align_items": null,
            "bottom": null,
            "_model_module": "@jupyter-widgets/base",
            "top": null,
            "grid_column": null,
            "overflow_y": null,
            "overflow_x": null,
            "grid_auto_flow": null,
            "grid_area": null,
            "grid_template_columns": null,
            "flex": null,
            "_model_name": "LayoutModel",
            "justify_items": null,
            "grid_row": null,
            "max_height": null,
            "align_content": null,
            "visibility": null,
            "align_self": null,
            "height": null,
            "min_height": null,
            "padding": null,
            "grid_auto_rows": null,
            "grid_gap": null,
            "max_width": null,
            "order": null,
            "_view_module_version": "1.2.0",
            "grid_template_areas": null,
            "object_position": null,
            "object_fit": null,
            "grid_auto_columns": null,
            "margin": null,
            "display": null,
            "left": null
          }
        },
        "1025c27d51314507801088284edff5bc": {
          "model_module": "@jupyter-widgets/controls",
          "model_name": "DescriptionStyleModel",
          "state": {
            "_view_name": "StyleView",
            "_model_name": "DescriptionStyleModel",
            "description_width": "",
            "_view_module": "@jupyter-widgets/base",
            "_model_module_version": "1.5.0",
            "_view_count": null,
            "_view_module_version": "1.2.0",
            "_model_module": "@jupyter-widgets/controls"
          }
        },
        "db2ceb033f8b4ed8ad489f7d82a1b4f6": {
          "model_module": "@jupyter-widgets/base",
          "model_name": "LayoutModel",
          "state": {
            "_view_name": "LayoutView",
            "grid_template_rows": null,
            "right": null,
            "justify_content": null,
            "_view_module": "@jupyter-widgets/base",
            "overflow": null,
            "_model_module_version": "1.2.0",
            "_view_count": null,
            "flex_flow": null,
            "width": null,
            "min_width": null,
            "border": null,
            "align_items": null,
            "bottom": null,
            "_model_module": "@jupyter-widgets/base",
            "top": null,
            "grid_column": null,
            "overflow_y": null,
            "overflow_x": null,
            "grid_auto_flow": null,
            "grid_area": null,
            "grid_template_columns": null,
            "flex": null,
            "_model_name": "LayoutModel",
            "justify_items": null,
            "grid_row": null,
            "max_height": null,
            "align_content": null,
            "visibility": null,
            "align_self": null,
            "height": null,
            "min_height": null,
            "padding": null,
            "grid_auto_rows": null,
            "grid_gap": null,
            "max_width": null,
            "order": null,
            "_view_module_version": "1.2.0",
            "grid_template_areas": null,
            "object_position": null,
            "object_fit": null,
            "grid_auto_columns": null,
            "margin": null,
            "display": null,
            "left": null
          }
        }
      }
    }
  },
  "cells": [
    {
      "cell_type": "markdown",
      "metadata": {
        "id": "nYQ_MIxlbiFb"
      },
      "source": [
        "Pegasus Project\r\n",
        "\r\n"
      ]
    },
    {
      "cell_type": "code",
      "metadata": {
        "id": "UnPDtGXAc83Y",
        "colab": {
          "base_uri": "https://localhost:8080/"
        },
        "outputId": "624ae277-a9e2-4a33-b452-59ed7705d885"
      },
      "source": [
        "!pip install transformers\r\n",
        "!pip install pyspellchecker\r\n",
        "!pip install sentencepiece"
      ],
      "execution_count": 2,
      "outputs": [
        {
          "output_type": "stream",
          "text": [
            "Collecting transformers\n",
            "\u001b[?25l  Downloading https://files.pythonhosted.org/packages/81/89/f07e7a884072ad37b1b6b1578637ab36152e0251d74abb950d967a59904e/transformers-4.3.1-py3-none-any.whl (1.8MB)\n",
            "\u001b[K     |████████████████████████████████| 1.8MB 5.8MB/s \n",
            "\u001b[?25hCollecting tokenizers<0.11,>=0.10.1\n",
            "\u001b[?25l  Downloading https://files.pythonhosted.org/packages/fd/5b/44baae602e0a30bcc53fbdbc60bd940c15e143d252d658dfdefce736ece5/tokenizers-0.10.1-cp36-cp36m-manylinux2010_x86_64.whl (3.2MB)\n",
            "\u001b[K     |████████████████████████████████| 3.2MB 48.5MB/s \n",
            "\u001b[?25hRequirement already satisfied: tqdm>=4.27 in /usr/local/lib/python3.6/dist-packages (from transformers) (4.41.1)\n",
            "Requirement already satisfied: dataclasses; python_version < \"3.7\" in /usr/local/lib/python3.6/dist-packages (from transformers) (0.8)\n",
            "Requirement already satisfied: requests in /usr/local/lib/python3.6/dist-packages (from transformers) (2.23.0)\n",
            "Collecting sacremoses\n",
            "\u001b[?25l  Downloading https://files.pythonhosted.org/packages/7d/34/09d19aff26edcc8eb2a01bed8e98f13a1537005d31e95233fd48216eed10/sacremoses-0.0.43.tar.gz (883kB)\n",
            "\u001b[K     |████████████████████████████████| 890kB 34.4MB/s \n",
            "\u001b[?25hRequirement already satisfied: importlib-metadata; python_version < \"3.8\" in /usr/local/lib/python3.6/dist-packages (from transformers) (3.4.0)\n",
            "Requirement already satisfied: packaging in /usr/local/lib/python3.6/dist-packages (from transformers) (20.9)\n",
            "Requirement already satisfied: filelock in /usr/local/lib/python3.6/dist-packages (from transformers) (3.0.12)\n",
            "Requirement already satisfied: numpy>=1.17 in /usr/local/lib/python3.6/dist-packages (from transformers) (1.19.5)\n",
            "Requirement already satisfied: regex!=2019.12.17 in /usr/local/lib/python3.6/dist-packages (from transformers) (2019.12.20)\n",
            "Requirement already satisfied: idna<3,>=2.5 in /usr/local/lib/python3.6/dist-packages (from requests->transformers) (2.10)\n",
            "Requirement already satisfied: urllib3!=1.25.0,!=1.25.1,<1.26,>=1.21.1 in /usr/local/lib/python3.6/dist-packages (from requests->transformers) (1.24.3)\n",
            "Requirement already satisfied: chardet<4,>=3.0.2 in /usr/local/lib/python3.6/dist-packages (from requests->transformers) (3.0.4)\n",
            "Requirement already satisfied: certifi>=2017.4.17 in /usr/local/lib/python3.6/dist-packages (from requests->transformers) (2020.12.5)\n",
            "Requirement already satisfied: six in /usr/local/lib/python3.6/dist-packages (from sacremoses->transformers) (1.15.0)\n",
            "Requirement already satisfied: click in /usr/local/lib/python3.6/dist-packages (from sacremoses->transformers) (7.1.2)\n",
            "Requirement already satisfied: joblib in /usr/local/lib/python3.6/dist-packages (from sacremoses->transformers) (1.0.0)\n",
            "Requirement already satisfied: typing-extensions>=3.6.4; python_version < \"3.8\" in /usr/local/lib/python3.6/dist-packages (from importlib-metadata; python_version < \"3.8\"->transformers) (3.7.4.3)\n",
            "Requirement already satisfied: zipp>=0.5 in /usr/local/lib/python3.6/dist-packages (from importlib-metadata; python_version < \"3.8\"->transformers) (3.4.0)\n",
            "Requirement already satisfied: pyparsing>=2.0.2 in /usr/local/lib/python3.6/dist-packages (from packaging->transformers) (2.4.7)\n",
            "Building wheels for collected packages: sacremoses\n",
            "  Building wheel for sacremoses (setup.py) ... \u001b[?25l\u001b[?25hdone\n",
            "  Created wheel for sacremoses: filename=sacremoses-0.0.43-cp36-none-any.whl size=893261 sha256=47a514dbceab8fbe0147fe29261517a3066630f85fbe0f52f893cf33c6fd7916\n",
            "  Stored in directory: /root/.cache/pip/wheels/29/3c/fd/7ce5c3f0666dab31a50123635e6fb5e19ceb42ce38d4e58f45\n",
            "Successfully built sacremoses\n",
            "Installing collected packages: tokenizers, sacremoses, transformers\n",
            "Successfully installed sacremoses-0.0.43 tokenizers-0.10.1 transformers-4.3.1\n",
            "Collecting pyspellchecker\n",
            "\u001b[?25l  Downloading https://files.pythonhosted.org/packages/6f/9d/5bb403decde661abc6c5467319a0729d7c238e04d8217d9fef885510ec9d/pyspellchecker-0.5.6-py2.py3-none-any.whl (2.5MB)\n",
            "\u001b[K     |████████████████████████████████| 2.5MB 5.9MB/s \n",
            "\u001b[?25hInstalling collected packages: pyspellchecker\n",
            "Successfully installed pyspellchecker-0.5.6\n",
            "Collecting sentencepiece\n",
            "\u001b[?25l  Downloading https://files.pythonhosted.org/packages/14/67/e42bd1181472c95c8cda79305df848264f2a7f62740995a46945d9797b67/sentencepiece-0.1.95-cp36-cp36m-manylinux2014_x86_64.whl (1.2MB)\n",
            "\u001b[K     |████████████████████████████████| 1.2MB 5.2MB/s \n",
            "\u001b[?25hInstalling collected packages: sentencepiece\n",
            "Successfully installed sentencepiece-0.1.95\n",
            "Requirement already satisfied: pandas in /usr/local/lib/python3.6/dist-packages (1.1.5)\n",
            "Requirement already satisfied: numpy>=1.15.4 in /usr/local/lib/python3.6/dist-packages (from pandas) (1.19.5)\n",
            "Requirement already satisfied: pytz>=2017.2 in /usr/local/lib/python3.6/dist-packages (from pandas) (2018.9)\n",
            "Requirement already satisfied: python-dateutil>=2.7.3 in /usr/local/lib/python3.6/dist-packages (from pandas) (2.8.1)\n",
            "Requirement already satisfied: six>=1.5 in /usr/local/lib/python3.6/dist-packages (from python-dateutil>=2.7.3->pandas) (1.15.0)\n"
          ],
          "name": "stdout"
        }
      ]
    },
    {
      "cell_type": "code",
      "metadata": {
        "id": "0gSXberQdViq"
      },
      "source": [
        "from transformers import PegasusForConditionalGeneration, PegasusTokenizer\n",
        "import torch"
      ],
      "execution_count": 16,
      "outputs": []
    },
    {
      "cell_type": "markdown",
      "metadata": {
        "id": "S3PYeeGuda0m"
      },
      "source": [
        "### Examples"
      ]
    },
    {
      "cell_type": "code",
      "metadata": {
        "id": "Ivqni7zOeEIy"
      },
      "source": [
        "## The last two examples are from the Pegasus paper: https://arxiv.org/pdf/1912.08777.pdf\n",
        "src_text = [\n",
        "    \"\"\" PG&E stated it scheduled the blackouts in response to forecasts for high winds amid dry conditions. \n",
        "    The aim is to reduce the risk of wildfires. Nearly 800 thousand customers were scheduled to be affected by the shutoffs which were expected to last through at least midday tomorrow.\"\"\",\n",
        "    \"\"\"She will play Denker, a lady’s maid to Dame Maggie Smith’s character, the Dowager Countess of Grantham. Johnston, who has also appeared in\n",
        "Waking the Dead and Coronation Street, joins new stars Richard E Grant and Anna Chancellor, both of whom will play guests of the Granthams\n",
        "at Downton. The hit period drama will return to screens this autumn. Series four of the show, which followed the wealthy Grantham family and\n",
        "their servants, achieved an average of 11.9 million viewers in the UK. The very British drama has also been a huge hit in the US, winning both\n",
        "Emmy Awards and Golden Globes. More than 26 million viewers watched series four on Masterpiece on PBS, making it one of the highest rating\n",
        "shows on American television. Previous high profile guest stars include Shirley Maclaine who played Martha Levinson, Lady Grantham’s mother,\n",
        "and Oscar-nominated actor Paul Giamatti who appeared in last year’s Christmas special as her ”maverick, playboy” son. Series five will also feature\n",
        "24 star Rade Sherbedgia as a Russian refugee who has fled the revolution after World War 1. Earlier this year, executive producer Gareth Neame\n",
        "promised it would have ”all the usual highs and lows, romance, drama and comedy”\"\"\",\n",
        "    \"\"\"Matthew Gillard, of Connsbrook Avenue in east Belfast, pleaded not guilty to charges including kidnapping and false imprisonment. The defendant,\n",
        "25, also denied charges of common assault, assaulting a police officer and driving dangerously. The charges relate to incidents in east Belfast and\n",
        "Comber on Saturday 4 April. Newtownards Magistrates Court heard that the defendant and the woman were in his car in east Belfast when he\n",
        "began questioning her about who she was seeing. A detective giving evidence in court said the woman tried to get out of the Seat Toledo car but the\n",
        "defendant allegedly drove off at speed, through a red light on Bloomfield Avenue. When the car stopped on the Belfast Road in Comber, the woman\n",
        "escaped along a lane but was carried back to the car by the defendant, the court heard. An off-duty police sergeant saw this and went to help the\n",
        "woman. When the sergeant tried to intervene, the defendant allegedly drove his car at the officer, forcing him to get out of the way. The sergeant was\n",
        "able to pull the keys from the ignition through the car’s open window, but the defendant wrenched them from his grasp. He then drove to the Grand\n",
        "Parade area of east Belfast where the woman was released. He is also alleged to have sent the woman a message threatening that if she went to police\n",
        "about the incident he would ”ruin her life in every possible way”. The court heard that the defendant handed himself over to police on Wednesday,\n",
        "despite being aware since Saturday that he was wanted by the PSNI. But during police interviews he refused to answer questions put to him. An\n",
        "application for bail was made but this was refused. Mr Gillard will appear again in court on 1 May.\"\"\"\n",
        "]"
      ],
      "execution_count": 17,
      "outputs": []
    },
    {
      "cell_type": "code",
      "metadata": {
        "id": "dbSgVNu-eRC9"
      },
      "source": [
        "model_name = 'google/pegasus-xsum'\n",
        "torch_device = 'cuda' if torch.cuda.is_available() else 'cpu'"
      ],
      "execution_count": 18,
      "outputs": []
    },
    {
      "cell_type": "code",
      "metadata": {
        "id": "a8iSyQA6eU3S",
        "colab": {
          "base_uri": "https://localhost:8080/",
          "height": 164,
          "referenced_widgets": [
            "886d358786dd4eaaa83843313786827c",
            "ba5efb0c1ea647fba36e03b61801dc6b",
            "0e70faee1c28421197e7ef40644e07d8",
            "76110c1f208d4f9e8ac3ec9453806510",
            "b915a2b441ef4145a3e8188eb393acfb",
            "1f74fb327f82407fa4c8fda6c1a98095",
            "0e640cb610c241c1a26be0c15579a036",
            "e6166efa12644bcabe0aba31e1b77b32",
            "bdf91f91b17f45c493ce6dc0abb98fb6",
            "ff69f2e167e44a268d3ccafcd2be5866",
            "5f1536cf2bcf4c418f9d93cf5d115c6d",
            "1e28d33a59d141f8b8ca7d808fad644b",
            "3354c7bde7a445ef9c0bf0d595dd39b1",
            "c9da0258c98d4b09a6645c18ce10210c",
            "e4ed71320909497cb363a7f8f4fd2c3f",
            "342c4cfcad5d443eaf2a7b9e0184bec4",
            "fb128d15e3b14f59968026ef66cd7cf4",
            "8fc3bdf9fa894ae1aaa786410750cb1d",
            "90058cf6c9464eebbbd9eb8c0594357e",
            "9fb98233416348a5a7ed88bc565f1292",
            "60fd722af6ce4d689199b2a92e8aa753",
            "7b62a4bc9f4e4c7d946dfefe1b18ce39",
            "5456163d86434d7d8ccbeeb16e58b175",
            "61e4bd066b8e4eb38f704b6cdc03efd7"
          ]
        },
        "outputId": "008c6572-539d-408e-bdd0-eb0388f9828e"
      },
      "source": [
        "tokenizer = PegasusTokenizer.from_pretrained(model_name)\n",
        "model = PegasusForConditionalGeneration.from_pretrained(model_name).to(torch_device)"
      ],
      "execution_count": 19,
      "outputs": [
        {
          "output_type": "display_data",
          "data": {
            "application/vnd.jupyter.widget-view+json": {
              "model_id": "886d358786dd4eaaa83843313786827c",
              "version_minor": 0,
              "version_major": 2
            },
            "text/plain": [
              "HBox(children=(FloatProgress(value=0.0, description='Downloading', max=1912529.0, style=ProgressStyle(descript…"
            ]
          },
          "metadata": {
            "tags": []
          }
        },
        {
          "output_type": "stream",
          "text": [
            "\n"
          ],
          "name": "stdout"
        },
        {
          "output_type": "display_data",
          "data": {
            "application/vnd.jupyter.widget-view+json": {
              "model_id": "bdf91f91b17f45c493ce6dc0abb98fb6",
              "version_minor": 0,
              "version_major": 2
            },
            "text/plain": [
              "HBox(children=(FloatProgress(value=0.0, description='Downloading', max=1362.0, style=ProgressStyle(description…"
            ]
          },
          "metadata": {
            "tags": []
          }
        },
        {
          "output_type": "stream",
          "text": [
            "\n"
          ],
          "name": "stdout"
        },
        {
          "output_type": "display_data",
          "data": {
            "application/vnd.jupyter.widget-view+json": {
              "model_id": "fb128d15e3b14f59968026ef66cd7cf4",
              "version_minor": 0,
              "version_major": 2
            },
            "text/plain": [
              "HBox(children=(FloatProgress(value=0.0, description='Downloading', max=2275329241.0, style=ProgressStyle(descr…"
            ]
          },
          "metadata": {
            "tags": []
          }
        },
        {
          "output_type": "stream",
          "text": [
            "\n"
          ],
          "name": "stdout"
        }
      ]
    },
    {
      "cell_type": "code",
      "metadata": {
        "id": "E3Sb8fMYQfLp"
      },
      "source": [
        "#batch = tokenizer.prepare_seq2seq_batch(src_text, truncation=True, padding='longest').to(torch_device)\r\n",
        "batch = tokenizer.prepare_seq2seq_batch(src_text, truncation=True, padding='longest', return_tensors='pt').to(torch_device)"
      ],
      "execution_count": 20,
      "outputs": []
    },
    {
      "cell_type": "code",
      "metadata": {
        "id": "cXwbAVX7ScOq"
      },
      "source": [
        "translated = model.generate(**batch)\n",
        "tgt_text = tokenizer.batch_decode(translated, skip_special_tokens=True)"
      ],
      "execution_count": 21,
      "outputs": []
    },
    {
      "cell_type": "code",
      "metadata": {
        "id": "5Zvf8y7fSjOP",
        "colab": {
          "base_uri": "https://localhost:8080/"
        },
        "outputId": "15829ce9-5044-4ff9-c4e3-aaf88c147174"
      },
      "source": [
        "for txt in tgt_text:\n",
        "    print(txt)"
      ],
      "execution_count": null,
      "outputs": [
        {
          "output_type": "stream",
          "text": [
            "California's largest electricity provider has turned off power to hundreds of thousands of customers.\n",
            "Former EastEnders actress Janet Johnston has been cast as a guest star in the fifth series of Downton Abbey.\n",
            "A man has appeared in court charged with kidnapping and assaulting a police officer.\n"
          ],
          "name": "stdout"
        }
      ]
    },
    {
      "cell_type": "markdown",
      "metadata": {
        "id": "7WDubma8LyY1"
      },
      "source": [
        "# Testing My TV Show Descriptions"
      ]
    },
    {
      "cell_type": "code",
      "metadata": {
        "colab": {
          "resources": {
            "http://localhost:8080/nbextensions/google.colab/files.js": {
              "data": "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",
              "ok": true,
              "headers": [
                [
                  "content-type",
                  "application/javascript"
                ]
              ],
              "status": 200,
              "status_text": ""
            }
          },
          "base_uri": "https://localhost:8080/",
          "height": 72
        },
        "id": "y42UmKUkLzAd",
        "outputId": "ad23fed7-046c-42fd-f6ca-6e3536f23797"
      },
      "source": [
        "from google.colab import files\r\n",
        "uploaded = files.upload()"
      ],
      "execution_count": 46,
      "outputs": [
        {
          "output_type": "display_data",
          "data": {
            "text/html": [
              "\n",
              "     <input type=\"file\" id=\"files-d506ea3b-12a7-4937-aa3c-6aa9c2b52b2e\" name=\"files[]\" multiple disabled\n",
              "        style=\"border:none\" />\n",
              "     <output id=\"result-d506ea3b-12a7-4937-aa3c-6aa9c2b52b2e\">\n",
              "      Upload widget is only available when the cell has been executed in the\n",
              "      current browser session. Please rerun this cell to enable.\n",
              "      </output>\n",
              "      <script src=\"/nbextensions/google.colab/files.js\"></script> "
            ],
            "text/plain": [
              "<IPython.core.display.HTML object>"
            ]
          },
          "metadata": {
            "tags": []
          }
        },
        {
          "output_type": "stream",
          "text": [
            "Saving tv_shows.csv to tv_shows (3).csv\n"
          ],
          "name": "stdout"
        }
      ]
    },
    {
      "cell_type": "code",
      "metadata": {
        "id": "hJ0Q98Q_NVNE"
      },
      "source": [
        "import pandas as pd\r\n",
        "import io"
      ],
      "execution_count": 47,
      "outputs": []
    },
    {
      "cell_type": "code",
      "metadata": {
        "colab": {
          "base_uri": "https://localhost:8080/",
          "height": 359
        },
        "id": "obmRdd2INVQl",
        "outputId": "4af5618a-1c1d-4d59-dd39-31aad44d23e4"
      },
      "source": [
        "tv_df = pd.read_csv(io.BytesIO(uploaded['tv_shows.csv']))\r\n",
        "tv_df"
      ],
      "execution_count": 48,
      "outputs": [
        {
          "output_type": "execute_result",
          "data": {
            "text/html": [
              "<div>\n",
              "<style scoped>\n",
              "    .dataframe tbody tr th:only-of-type {\n",
              "        vertical-align: middle;\n",
              "    }\n",
              "\n",
              "    .dataframe tbody tr th {\n",
              "        vertical-align: top;\n",
              "    }\n",
              "\n",
              "    .dataframe thead th {\n",
              "        text-align: right;\n",
              "    }\n",
              "</style>\n",
              "<table border=\"1\" class=\"dataframe\">\n",
              "  <thead>\n",
              "    <tr style=\"text-align: right;\">\n",
              "      <th></th>\n",
              "      <th>Unnamed: 0</th>\n",
              "      <th>wiki_tag</th>\n",
              "      <th>title</th>\n",
              "      <th>description</th>\n",
              "      <th>img</th>\n",
              "    </tr>\n",
              "  </thead>\n",
              "  <tbody>\n",
              "    <tr>\n",
              "      <th>0</th>\n",
              "      <td>0</td>\n",
              "      <td>The_Big_Bang_Theory</td>\n",
              "      <td>The Big Bang Theory</td>\n",
              "      <td>The Big Bang Theory originally centered on fiv...</td>\n",
              "      <td>https://upload.wikimedia.org/wikipedia/en/7/7b...</td>\n",
              "    </tr>\n",
              "    <tr>\n",
              "      <th>1</th>\n",
              "      <td>1</td>\n",
              "      <td>Friends</td>\n",
              "      <td>Friends</td>\n",
              "      <td>The Office is an American mockumentary sitcom ...</td>\n",
              "      <td>https://upload.wikimedia.org/wikipedia/commons...</td>\n",
              "    </tr>\n",
              "    <tr>\n",
              "      <th>2</th>\n",
              "      <td>2</td>\n",
              "      <td>Breaking_Bad</td>\n",
              "      <td>Breaking Bad</td>\n",
              "      <td>Breaking Bad was set and filmed in Albuquerque...</td>\n",
              "      <td>https://upload.wikimedia.org/wikipedia/en/6/61...</td>\n",
              "    </tr>\n",
              "    <tr>\n",
              "      <th>3</th>\n",
              "      <td>3</td>\n",
              "      <td>The_Office_(American_TV_series)</td>\n",
              "      <td>The Office</td>\n",
              "      <td>Friends is an American television sitcom, crea...</td>\n",
              "      <td>https://upload.wikimedia.org/wikipedia/commons...</td>\n",
              "    </tr>\n",
              "    <tr>\n",
              "      <th>4</th>\n",
              "      <td>4</td>\n",
              "      <td>Arrested_Development</td>\n",
              "      <td>Arrested Development</td>\n",
              "      <td>Arrested Development follows the Bluths, a for...</td>\n",
              "      <td>https://upload.wikimedia.org/wikipedia/commons...</td>\n",
              "    </tr>\n",
              "    <tr>\n",
              "      <th>5</th>\n",
              "      <td>5</td>\n",
              "      <td>House_(TV_series)</td>\n",
              "      <td>House</td>\n",
              "      <td>The series's main character is Dr. Gregory Hou...</td>\n",
              "      <td>https://upload.wikimedia.org/wikipedia/commons...</td>\n",
              "    </tr>\n",
              "    <tr>\n",
              "      <th>6</th>\n",
              "      <td>6</td>\n",
              "      <td>Freaks_and_Geeks</td>\n",
              "      <td>Freaks and Geeks</td>\n",
              "      <td>Freaks and Geeks follows gifted high schooler ...</td>\n",
              "      <td>https://upload.wikimedia.org/wikipedia/en/0/06...</td>\n",
              "    </tr>\n",
              "    <tr>\n",
              "      <th>7</th>\n",
              "      <td>7</td>\n",
              "      <td>24_(TV_series)</td>\n",
              "      <td>24</td>\n",
              "      <td>The series stars Kiefer Sutherland as counter-...</td>\n",
              "      <td>https://upload.wikimedia.org/wikipedia/commons...</td>\n",
              "    </tr>\n",
              "    <tr>\n",
              "      <th>8</th>\n",
              "      <td>8</td>\n",
              "      <td>That%27s_So_Raven</td>\n",
              "      <td>That's So Raven</td>\n",
              "      <td>Set in San Francisco, That’s So Raven stars A...</td>\n",
              "      <td>https://upload.wikimedia.org/wikipedia/commons...</td>\n",
              "    </tr>\n",
              "    <tr>\n",
              "      <th>9</th>\n",
              "      <td>9</td>\n",
              "      <td>Curb_Your_Enthusiasm</td>\n",
              "      <td>Curb Your Enthusiasm</td>\n",
              "      <td>Curb Your Enthusiasm was created by Larry Davi...</td>\n",
              "      <td>https://upload.wikimedia.org/wikipedia/commons...</td>\n",
              "    </tr>\n",
              "  </tbody>\n",
              "</table>\n",
              "</div>"
            ],
            "text/plain": [
              "   Unnamed: 0  ...                                                img\n",
              "0           0  ...  https://upload.wikimedia.org/wikipedia/en/7/7b...\n",
              "1           1  ...  https://upload.wikimedia.org/wikipedia/commons...\n",
              "2           2  ...  https://upload.wikimedia.org/wikipedia/en/6/61...\n",
              "3           3  ...  https://upload.wikimedia.org/wikipedia/commons...\n",
              "4           4  ...  https://upload.wikimedia.org/wikipedia/commons...\n",
              "5           5  ...  https://upload.wikimedia.org/wikipedia/commons...\n",
              "6           6  ...  https://upload.wikimedia.org/wikipedia/en/0/06...\n",
              "7           7  ...  https://upload.wikimedia.org/wikipedia/commons...\n",
              "8           8  ...  https://upload.wikimedia.org/wikipedia/commons...\n",
              "9           9  ...  https://upload.wikimedia.org/wikipedia/commons...\n",
              "\n",
              "[10 rows x 5 columns]"
            ]
          },
          "metadata": {
            "tags": []
          },
          "execution_count": 48
        }
      ]
    },
    {
      "cell_type": "code",
      "metadata": {
        "colab": {
          "base_uri": "https://localhost:8080/"
        },
        "id": "GCkvJV5-OiSa",
        "outputId": "843d634c-3d4e-4dbc-e5d4-0d470928c727"
      },
      "source": [
        "test = \"The sinking of the Titanic. The Irish potato famine. The McDonald's coffee lawsuit. This funny and informative podcast investigates some of the greatest failures of our time; how they happened, what went wrong, and whether they could have been prevented. History buffs who want a chuckle, this one's for you.\"\r\n",
        "batch = tokenizer.prepare_seq2seq_batch(test, truncation=True, padding='longest', return_tensors='pt').to(torch_device)\r\n",
        "translated = model.generate(**batch)\r\n",
        "tgt_text_test = tokenizer.batch_decode(translated, skip_special_tokens=True)\r\n",
        "tgt_text_test"
      ],
      "execution_count": 71,
      "outputs": [
        {
          "output_type": "execute_result",
          "data": {
            "text/plain": [
              "['History is full of mistakes.']"
            ]
          },
          "metadata": {
            "tags": []
          },
          "execution_count": 71
        }
      ]
    },
    {
      "cell_type": "code",
      "metadata": {
        "id": "PaMmDpOoNVUU"
      },
      "source": [
        "short_summary = []\r\n",
        "for i in range(10):\r\n",
        "  batch = tokenizer.prepare_seq2seq_batch(tv_df['description'][i], truncation=True, padding='longest', return_tensors='pt').to(torch_device)\r\n",
        "  translated = model.generate(**batch)\r\n",
        "  tgt_text = tokenizer.batch_decode(translated, skip_special_tokens=True)\r\n",
        "  short_summary.append(str(tgt_text[0]))"
      ],
      "execution_count": 66,
      "outputs": []
    },
    {
      "cell_type": "code",
      "metadata": {
        "id": "x1Z7Ry36d-Xz"
      },
      "source": [
        "tv_df['short_summary'] = short_summary"
      ],
      "execution_count": 67,
      "outputs": []
    },
    {
      "cell_type": "code",
      "metadata": {
        "colab": {
          "base_uri": "https://localhost:8080/"
        },
        "id": "DobC5cQtek3f",
        "outputId": "462193c8-3987-4ff7-befb-6ad3502e2055"
      },
      "source": [
        "short_summary"
      ],
      "execution_count": 68,
      "outputs": [
        {
          "output_type": "execute_result",
          "data": {
            "text/plain": [
              "['The Big Bang Theory is one of the most popular sitcoms in US television history.',\n",
              " 'The Office is an American mockumentary sitcom television series that depicts the everyday work lives of office employees in the Scranton, Pennsylvania branch of the fictional Dunder Paper Company.',\n",
              " 'Breaking Bad, the Emmy Award-winning drama about a high school chemistry teacher who turns to crime to make ends meet, has been renewed for a fifth season by AMC.',\n",
              " 'Friends is an American television sitcom, created by David Crane and Marta Kauffman, which aired on NBC from September 22, 1994, to May 6, 2004, lasting ten seasons.',\n",
              " 'The cult 1980s sitcom Arrested Development has been remastered and released on Blu-ray.',\n",
              " 'House is a British drama television series broadcast on BBC One in the United States.',\n",
              " 'The cult 1980s sitcom Freaks and Geeks has been renewed for a second season.',\n",
              " 'The sixth and final season of the hit TV drama 24: Legacy will be broadcast on BBC One in the UK on 24 February.',\n",
              " 'A new children’s TV series has been commissioned by BBC One in the UK.',\n",
              " 'Curb Your Enthusiasm has been renewed for a seventh season by HBO.']"
            ]
          },
          "metadata": {
            "tags": []
          },
          "execution_count": 68
        }
      ]
    },
    {
      "cell_type": "code",
      "metadata": {
        "colab": {
          "base_uri": "https://localhost:8080/",
          "height": 359
        },
        "id": "_tjze8Hgfecf",
        "outputId": "8c826ab4-a0e7-43a6-91f2-27a53e770dd1"
      },
      "source": [
        "tv_df"
      ],
      "execution_count": 69,
      "outputs": [
        {
          "output_type": "execute_result",
          "data": {
            "text/html": [
              "<div>\n",
              "<style scoped>\n",
              "    .dataframe tbody tr th:only-of-type {\n",
              "        vertical-align: middle;\n",
              "    }\n",
              "\n",
              "    .dataframe tbody tr th {\n",
              "        vertical-align: top;\n",
              "    }\n",
              "\n",
              "    .dataframe thead th {\n",
              "        text-align: right;\n",
              "    }\n",
              "</style>\n",
              "<table border=\"1\" class=\"dataframe\">\n",
              "  <thead>\n",
              "    <tr style=\"text-align: right;\">\n",
              "      <th></th>\n",
              "      <th>Unnamed: 0</th>\n",
              "      <th>wiki_tag</th>\n",
              "      <th>title</th>\n",
              "      <th>description</th>\n",
              "      <th>img</th>\n",
              "      <th>short_summary</th>\n",
              "    </tr>\n",
              "  </thead>\n",
              "  <tbody>\n",
              "    <tr>\n",
              "      <th>0</th>\n",
              "      <td>0</td>\n",
              "      <td>The_Big_Bang_Theory</td>\n",
              "      <td>The Big Bang Theory</td>\n",
              "      <td>The Big Bang Theory originally centered on fiv...</td>\n",
              "      <td>https://upload.wikimedia.org/wikipedia/en/7/7b...</td>\n",
              "      <td>The Big Bang Theory is one of the most popular...</td>\n",
              "    </tr>\n",
              "    <tr>\n",
              "      <th>1</th>\n",
              "      <td>1</td>\n",
              "      <td>Friends</td>\n",
              "      <td>Friends</td>\n",
              "      <td>The Office is an American mockumentary sitcom ...</td>\n",
              "      <td>https://upload.wikimedia.org/wikipedia/commons...</td>\n",
              "      <td>The Office is an American mockumentary sitcom ...</td>\n",
              "    </tr>\n",
              "    <tr>\n",
              "      <th>2</th>\n",
              "      <td>2</td>\n",
              "      <td>Breaking_Bad</td>\n",
              "      <td>Breaking Bad</td>\n",
              "      <td>Breaking Bad was set and filmed in Albuquerque...</td>\n",
              "      <td>https://upload.wikimedia.org/wikipedia/en/6/61...</td>\n",
              "      <td>Breaking Bad, the Emmy Award-winning drama abo...</td>\n",
              "    </tr>\n",
              "    <tr>\n",
              "      <th>3</th>\n",
              "      <td>3</td>\n",
              "      <td>The_Office_(American_TV_series)</td>\n",
              "      <td>The Office</td>\n",
              "      <td>Friends is an American television sitcom, crea...</td>\n",
              "      <td>https://upload.wikimedia.org/wikipedia/commons...</td>\n",
              "      <td>Friends is an American television sitcom, crea...</td>\n",
              "    </tr>\n",
              "    <tr>\n",
              "      <th>4</th>\n",
              "      <td>4</td>\n",
              "      <td>Arrested_Development</td>\n",
              "      <td>Arrested Development</td>\n",
              "      <td>Arrested Development follows the Bluths, a for...</td>\n",
              "      <td>https://upload.wikimedia.org/wikipedia/commons...</td>\n",
              "      <td>The cult 1980s sitcom Arrested Development has...</td>\n",
              "    </tr>\n",
              "    <tr>\n",
              "      <th>5</th>\n",
              "      <td>5</td>\n",
              "      <td>House_(TV_series)</td>\n",
              "      <td>House</td>\n",
              "      <td>The series's main character is Dr. Gregory Hou...</td>\n",
              "      <td>https://upload.wikimedia.org/wikipedia/commons...</td>\n",
              "      <td>House is a British drama television series bro...</td>\n",
              "    </tr>\n",
              "    <tr>\n",
              "      <th>6</th>\n",
              "      <td>6</td>\n",
              "      <td>Freaks_and_Geeks</td>\n",
              "      <td>Freaks and Geeks</td>\n",
              "      <td>Freaks and Geeks follows gifted high schooler ...</td>\n",
              "      <td>https://upload.wikimedia.org/wikipedia/en/0/06...</td>\n",
              "      <td>The cult 1980s sitcom Freaks and Geeks has bee...</td>\n",
              "    </tr>\n",
              "    <tr>\n",
              "      <th>7</th>\n",
              "      <td>7</td>\n",
              "      <td>24_(TV_series)</td>\n",
              "      <td>24</td>\n",
              "      <td>The series stars Kiefer Sutherland as counter-...</td>\n",
              "      <td>https://upload.wikimedia.org/wikipedia/commons...</td>\n",
              "      <td>The sixth and final season of the hit TV drama...</td>\n",
              "    </tr>\n",
              "    <tr>\n",
              "      <th>8</th>\n",
              "      <td>8</td>\n",
              "      <td>That%27s_So_Raven</td>\n",
              "      <td>That's So Raven</td>\n",
              "      <td>Set in San Francisco, That’s So Raven stars A...</td>\n",
              "      <td>https://upload.wikimedia.org/wikipedia/commons...</td>\n",
              "      <td>A new children’s TV series has been commission...</td>\n",
              "    </tr>\n",
              "    <tr>\n",
              "      <th>9</th>\n",
              "      <td>9</td>\n",
              "      <td>Curb_Your_Enthusiasm</td>\n",
              "      <td>Curb Your Enthusiasm</td>\n",
              "      <td>Curb Your Enthusiasm was created by Larry Davi...</td>\n",
              "      <td>https://upload.wikimedia.org/wikipedia/commons...</td>\n",
              "      <td>Curb Your Enthusiasm has been renewed for a se...</td>\n",
              "    </tr>\n",
              "  </tbody>\n",
              "</table>\n",
              "</div>"
            ],
            "text/plain": [
              "   Unnamed: 0  ...                                      short_summary\n",
              "0           0  ...  The Big Bang Theory is one of the most popular...\n",
              "1           1  ...  The Office is an American mockumentary sitcom ...\n",
              "2           2  ...  Breaking Bad, the Emmy Award-winning drama abo...\n",
              "3           3  ...  Friends is an American television sitcom, crea...\n",
              "4           4  ...  The cult 1980s sitcom Arrested Development has...\n",
              "5           5  ...  House is a British drama television series bro...\n",
              "6           6  ...  The cult 1980s sitcom Freaks and Geeks has bee...\n",
              "7           7  ...  The sixth and final season of the hit TV drama...\n",
              "8           8  ...  A new children’s TV series has been commission...\n",
              "9           9  ...  Curb Your Enthusiasm has been renewed for a se...\n",
              "\n",
              "[10 rows x 6 columns]"
            ]
          },
          "metadata": {
            "tags": []
          },
          "execution_count": 69
        }
      ]
    },
    {
      "cell_type": "markdown",
      "metadata": {
        "id": "eSsJIdESo_wc"
      },
      "source": [
        "# Testing Podcasts"
      ]
    },
    {
      "cell_type": "code",
      "metadata": {
        "colab": {
          "resources": {
            "http://localhost:8080/nbextensions/google.colab/files.js": {
              "data": "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",
              "ok": true,
              "headers": [
                [
                  "content-type",
                  "application/javascript"
                ]
              ],
              "status": 200,
              "status_text": ""
            }
          },
          "base_uri": "https://localhost:8080/",
          "height": 72
        },
        "id": "wLg9TlFYo_7_",
        "outputId": "a421edd1-b63c-46d5-c19d-460139d6e5ac"
      },
      "source": [
        "from google.colab import files\r\n",
        "uploaded = files.upload()"
      ],
      "execution_count": 72,
      "outputs": [
        {
          "output_type": "display_data",
          "data": {
            "text/html": [
              "\n",
              "     <input type=\"file\" id=\"files-3232564d-6f7c-4b26-b82a-68658e401d95\" name=\"files[]\" multiple disabled\n",
              "        style=\"border:none\" />\n",
              "     <output id=\"result-3232564d-6f7c-4b26-b82a-68658e401d95\">\n",
              "      Upload widget is only available when the cell has been executed in the\n",
              "      current browser session. Please rerun this cell to enable.\n",
              "      </output>\n",
              "      <script src=\"/nbextensions/google.colab/files.js\"></script> "
            ],
            "text/plain": [
              "<IPython.core.display.HTML object>"
            ]
          },
          "metadata": {
            "tags": []
          }
        },
        {
          "output_type": "stream",
          "text": [
            "Saving podcast.csv to podcast.csv\n"
          ],
          "name": "stdout"
        }
      ]
    },
    {
      "cell_type": "code",
      "metadata": {
        "id": "NC4gIEGro_-z"
      },
      "source": [
        "import pandas as pd\r\n",
        "import io"
      ],
      "execution_count": 73,
      "outputs": []
    },
    {
      "cell_type": "code",
      "metadata": {
        "id": "mssLrQsbpABg"
      },
      "source": [
        "podcast_df = pd.read_csv(io.BytesIO(uploaded['podcast.csv']))"
      ],
      "execution_count": 74,
      "outputs": []
    },
    {
      "cell_type": "code",
      "metadata": {
        "id": "2KkqZkDDpAES"
      },
      "source": [
        "short_summary = []\r\n",
        "for i in range(41):\r\n",
        "  batch = tokenizer.prepare_seq2seq_batch(podcast_df['description'][i], truncation=True, padding='longest', return_tensors='pt').to(torch_device)\r\n",
        "  translated = model.generate(**batch)\r\n",
        "  tgt_text = tokenizer.batch_decode(translated, skip_special_tokens=True)\r\n",
        "  short_summary.append(str(tgt_text[0]))"
      ],
      "execution_count": 81,
      "outputs": []
    },
    {
      "cell_type": "code",
      "metadata": {
        "colab": {
          "base_uri": "https://localhost:8080/"
        },
        "id": "poer-_W-vjeb",
        "outputId": "cb18fb79-5991-48cc-f885-271352289444"
      },
      "source": [
        "len(short_summary)"
      ],
      "execution_count": 82,
      "outputs": [
        {
          "output_type": "execute_result",
          "data": {
            "text/plain": [
              "41"
            ]
          },
          "metadata": {
            "tags": []
          },
          "execution_count": 82
        }
      ]
    },
    {
      "cell_type": "code",
      "metadata": {
        "colab": {
          "base_uri": "https://localhost:8080/",
          "height": 204
        },
        "id": "XPEA-Cr-vjmr",
        "outputId": "25bb3211-9ad8-4789-e762-c4f7892a5560"
      },
      "source": [
        "podcast_df.head()"
      ],
      "execution_count": 83,
      "outputs": [
        {
          "output_type": "execute_result",
          "data": {
            "text/html": [
              "<div>\n",
              "<style scoped>\n",
              "    .dataframe tbody tr th:only-of-type {\n",
              "        vertical-align: middle;\n",
              "    }\n",
              "\n",
              "    .dataframe tbody tr th {\n",
              "        vertical-align: top;\n",
              "    }\n",
              "\n",
              "    .dataframe thead th {\n",
              "        text-align: right;\n",
              "    }\n",
              "</style>\n",
              "<table border=\"1\" class=\"dataframe\">\n",
              "  <thead>\n",
              "    <tr style=\"text-align: right;\">\n",
              "      <th></th>\n",
              "      <th>Unnamed: 0</th>\n",
              "      <th>name</th>\n",
              "      <th>description</th>\n",
              "      <th>img</th>\n",
              "    </tr>\n",
              "  </thead>\n",
              "  <tbody>\n",
              "    <tr>\n",
              "      <th>0</th>\n",
              "      <td>0</td>\n",
              "      <td>Becoming Wise</td>\n",
              "      <td>Gain new insight on life and morality in the t...</td>\n",
              "      <td>https://hips.hearstapps.com/hmg-prod.s3.amazon...</td>\n",
              "    </tr>\n",
              "    <tr>\n",
              "      <th>1</th>\n",
              "      <td>1</td>\n",
              "      <td>Every Little Thing</td>\n",
              "      <td>Host Flora Lichtman explores topics ranging fr...</td>\n",
              "      <td>https://hips.hearstapps.com/hmg-prod.s3.amazon...</td>\n",
              "    </tr>\n",
              "    <tr>\n",
              "      <th>2</th>\n",
              "      <td>2</td>\n",
              "      <td>WE Well-Being Podcast</td>\n",
              "      <td>Canada's first lady, Sophie Gregoire Trudeau, ...</td>\n",
              "      <td>https://hips.hearstapps.com/hmg-prod.s3.amazon...</td>\n",
              "    </tr>\n",
              "    <tr>\n",
              "      <th>3</th>\n",
              "      <td>3</td>\n",
              "      <td>This American Life</td>\n",
              "      <td>The first ever podcast to win a Pulitzer Prize...</td>\n",
              "      <td>https://hips.hearstapps.com/hmg-prod.s3.amazon...</td>\n",
              "    </tr>\n",
              "    <tr>\n",
              "      <th>4</th>\n",
              "      <td>4</td>\n",
              "      <td>Beautiful Anonymous</td>\n",
              "      <td>Offbeat comedian Chris Gethard invites anonymo...</td>\n",
              "      <td>https://hips.hearstapps.com/hmg-prod.s3.amazon...</td>\n",
              "    </tr>\n",
              "  </tbody>\n",
              "</table>\n",
              "</div>"
            ],
            "text/plain": [
              "   Unnamed: 0  ...                                                img\n",
              "0           0  ...  https://hips.hearstapps.com/hmg-prod.s3.amazon...\n",
              "1           1  ...  https://hips.hearstapps.com/hmg-prod.s3.amazon...\n",
              "2           2  ...  https://hips.hearstapps.com/hmg-prod.s3.amazon...\n",
              "3           3  ...  https://hips.hearstapps.com/hmg-prod.s3.amazon...\n",
              "4           4  ...  https://hips.hearstapps.com/hmg-prod.s3.amazon...\n",
              "\n",
              "[5 rows x 4 columns]"
            ]
          },
          "metadata": {
            "tags": []
          },
          "execution_count": 83
        }
      ]
    },
    {
      "cell_type": "code",
      "metadata": {
        "id": "KHnQOcIapjqH"
      },
      "source": [
        "podcast_df['short_summary'] = short_summary"
      ],
      "execution_count": 84,
      "outputs": []
    },
    {
      "cell_type": "code",
      "metadata": {
        "colab": {
          "base_uri": "https://localhost:8080/",
          "height": 1000
        },
        "id": "JEDHCDLrpAGv",
        "outputId": "9f4e7782-0be2-4ca6-c72e-cef0db7fcd5e"
      },
      "source": [
        "podcast_df"
      ],
      "execution_count": 91,
      "outputs": [
        {
          "output_type": "execute_result",
          "data": {
            "text/html": [
              "<div>\n",
              "<style scoped>\n",
              "    .dataframe tbody tr th:only-of-type {\n",
              "        vertical-align: middle;\n",
              "    }\n",
              "\n",
              "    .dataframe tbody tr th {\n",
              "        vertical-align: top;\n",
              "    }\n",
              "\n",
              "    .dataframe thead th {\n",
              "        text-align: right;\n",
              "    }\n",
              "</style>\n",
              "<table border=\"1\" class=\"dataframe\">\n",
              "  <thead>\n",
              "    <tr style=\"text-align: right;\">\n",
              "      <th></th>\n",
              "      <th>Unnamed: 0</th>\n",
              "      <th>name</th>\n",
              "      <th>description</th>\n",
              "      <th>img</th>\n",
              "      <th>short_summary</th>\n",
              "      <th>original_length</th>\n",
              "      <th>pegasus_length</th>\n",
              "      <th>summary_ratio</th>\n",
              "    </tr>\n",
              "  </thead>\n",
              "  <tbody>\n",
              "    <tr>\n",
              "      <th>0</th>\n",
              "      <td>0</td>\n",
              "      <td>Becoming Wise</td>\n",
              "      <td>Gain new insight on life and morality in the t...</td>\n",
              "      <td>https://hips.hearstapps.com/hmg-prod.s3.amazon...</td>\n",
              "      <td>Have you ever wondered what makes a good cup o...</td>\n",
              "      <td>218</td>\n",
              "      <td>52</td>\n",
              "      <td>0.238532</td>\n",
              "    </tr>\n",
              "    <tr>\n",
              "      <th>1</th>\n",
              "      <td>1</td>\n",
              "      <td>Every Little Thing</td>\n",
              "      <td>Host Flora Lichtman explores topics ranging fr...</td>\n",
              "      <td>https://hips.hearstapps.com/hmg-prod.s3.amazon...</td>\n",
              "      <td>On this week's episode of The Big Bang Theory,...</td>\n",
              "      <td>224</td>\n",
              "      <td>150</td>\n",
              "      <td>0.669643</td>\n",
              "    </tr>\n",
              "    <tr>\n",
              "      <th>2</th>\n",
              "      <td>2</td>\n",
              "      <td>WE Well-Being Podcast</td>\n",
              "      <td>Canada's first lady, Sophie Gregoire Trudeau, ...</td>\n",
              "      <td>https://hips.hearstapps.com/hmg-prod.s3.amazon...</td>\n",
              "      <td>On World Mental Health Day, the BBC News websi...</td>\n",
              "      <td>209</td>\n",
              "      <td>105</td>\n",
              "      <td>0.502392</td>\n",
              "    </tr>\n",
              "    <tr>\n",
              "      <th>3</th>\n",
              "      <td>3</td>\n",
              "      <td>This American Life</td>\n",
              "      <td>The first ever podcast to win a Pulitzer Prize...</td>\n",
              "      <td>https://hips.hearstapps.com/hmg-prod.s3.amazon...</td>\n",
              "      <td>If you've ever wanted to know what makes a goo...</td>\n",
              "      <td>312</td>\n",
              "      <td>91</td>\n",
              "      <td>0.291667</td>\n",
              "    </tr>\n",
              "    <tr>\n",
              "      <th>4</th>\n",
              "      <td>4</td>\n",
              "      <td>Beautiful Anonymous</td>\n",
              "      <td>Offbeat comedian Chris Gethard invites anonymo...</td>\n",
              "      <td>https://hips.hearstapps.com/hmg-prod.s3.amazon...</td>\n",
              "      <td>If you've ever wondered what it's like to call...</td>\n",
              "      <td>371</td>\n",
              "      <td>108</td>\n",
              "      <td>0.291105</td>\n",
              "    </tr>\n",
              "    <tr>\n",
              "      <th>5</th>\n",
              "      <td>5</td>\n",
              "      <td>The Michelle Obama Podcast</td>\n",
              "      <td>Tune in to listen to the former First Lady in ...</td>\n",
              "      <td>https://hips.hearstapps.com/hmg-prod.s3.amazon...</td>\n",
              "      <td>Michelle Obama's new talk show, The Michelle O...</td>\n",
              "      <td>247</td>\n",
              "      <td>85</td>\n",
              "      <td>0.344130</td>\n",
              "    </tr>\n",
              "    <tr>\n",
              "      <th>6</th>\n",
              "      <td>6</td>\n",
              "      <td>Motherhood Sessions</td>\n",
              "      <td>Even supermoms need a little advice sometimes....</td>\n",
              "      <td>https://hips.hearstapps.com/hmg-prod.s3.amazon...</td>\n",
              "      <td>It's not easy being a mother.</td>\n",
              "      <td>248</td>\n",
              "      <td>29</td>\n",
              "      <td>0.116935</td>\n",
              "    </tr>\n",
              "    <tr>\n",
              "      <th>7</th>\n",
              "      <td>7</td>\n",
              "      <td>Call Your Girlfriend</td>\n",
              "      <td>Hosts and long-distance besties Ann Friedman a...</td>\n",
              "      <td>https://hips.hearstapps.com/hmg-prod.s3.amazon...</td>\n",
              "      <td>In case you missed it, here's your chance to f...</td>\n",
              "      <td>239</td>\n",
              "      <td>108</td>\n",
              "      <td>0.451883</td>\n",
              "    </tr>\n",
              "    <tr>\n",
              "      <th>8</th>\n",
              "      <td>8</td>\n",
              "      <td>The Trend Reporter</td>\n",
              "      <td>Emmy Award winning TV personality and journali...</td>\n",
              "      <td>https://hips.hearstapps.com/hmg-prod.s3.amazon...</td>\n",
              "      <td>If you want to know what's going on in the wor...</td>\n",
              "      <td>347</td>\n",
              "      <td>108</td>\n",
              "      <td>0.311239</td>\n",
              "    </tr>\n",
              "    <tr>\n",
              "      <th>9</th>\n",
              "      <td>9</td>\n",
              "      <td>Dolly Parton's America</td>\n",
              "      <td>Join host Jad Abumrad on a personal journey to...</td>\n",
              "      <td>https://hips.hearstapps.com/hmg-prod.s3.amazon...</td>\n",
              "      <td>Country music legend Dolly Parton is celebrati...</td>\n",
              "      <td>246</td>\n",
              "      <td>77</td>\n",
              "      <td>0.313008</td>\n",
              "    </tr>\n",
              "    <tr>\n",
              "      <th>10</th>\n",
              "      <td>10</td>\n",
              "      <td>Serial</td>\n",
              "      <td>This podcast hit zeitgeist with its first seas...</td>\n",
              "      <td>https://hips.hearstapps.com/hmg-prod.s3.amazon...</td>\n",
              "      <td>All photographs  Sarah Koenig / Magnum Photos.</td>\n",
              "      <td>251</td>\n",
              "      <td>46</td>\n",
              "      <td>0.183267</td>\n",
              "    </tr>\n",
              "    <tr>\n",
              "      <th>11</th>\n",
              "      <td>11</td>\n",
              "      <td>Fiasco</td>\n",
              "      <td>News junkies will love this audio documentary ...</td>\n",
              "      <td>https://hips.hearstapps.com/hmg-prod.s3.amazon...</td>\n",
              "      <td>It's been a decade since the fall of the Berli...</td>\n",
              "      <td>270</td>\n",
              "      <td>81</td>\n",
              "      <td>0.300000</td>\n",
              "    </tr>\n",
              "    <tr>\n",
              "      <th>12</th>\n",
              "      <td>12</td>\n",
              "      <td>Dope Labs</td>\n",
              "      <td>Best friends and scientists Titi Shodiya and Z...</td>\n",
              "      <td>https://hips.hearstapps.com/hmg-prod.s3.amazon...</td>\n",
              "      <td>In our series of letters from African journali...</td>\n",
              "      <td>166</td>\n",
              "      <td>134</td>\n",
              "      <td>0.807229</td>\n",
              "    </tr>\n",
              "    <tr>\n",
              "      <th>13</th>\n",
              "      <td>13</td>\n",
              "      <td>Spooked</td>\n",
              "      <td>This creepy podcast invites you to gather 'rou...</td>\n",
              "      <td>https://hips.hearstapps.com/hmg-prod.s3.amazon...</td>\n",
              "      <td>Have you ever wondered what it's like to be ha...</td>\n",
              "      <td>231</td>\n",
              "      <td>52</td>\n",
              "      <td>0.225108</td>\n",
              "    </tr>\n",
              "    <tr>\n",
              "      <th>14</th>\n",
              "      <td>14</td>\n",
              "      <td>How Did This Get Made?</td>\n",
              "      <td>If you love movies that are so bad, they're go...</td>\n",
              "      <td>https://hips.hearstapps.com/hmg-prod.s3.amazon...</td>\n",
              "      <td>If you love movies that are so bad, they're go...</td>\n",
              "      <td>325</td>\n",
              "      <td>124</td>\n",
              "      <td>0.381538</td>\n",
              "    </tr>\n",
              "    <tr>\n",
              "      <th>15</th>\n",
              "      <td>15</td>\n",
              "      <td>Why Won't You Date Me?</td>\n",
              "      <td>Let's be real, we've all probably asked oursel...</td>\n",
              "      <td>https://hips.hearstapps.com/hmg-prod.s3.amazon...</td>\n",
              "      <td>Have you ever wondered what it's like to be in...</td>\n",
              "      <td>330</td>\n",
              "      <td>62</td>\n",
              "      <td>0.187879</td>\n",
              "    </tr>\n",
              "    <tr>\n",
              "      <th>16</th>\n",
              "      <td>16</td>\n",
              "      <td>Keep It</td>\n",
              "      <td>Look, entertainment is culture and society is ...</td>\n",
              "      <td>https://hips.hearstapps.com/hmg-prod.s3.amazon...</td>\n",
              "      <td>In the age of social media and 24-hour news, i...</td>\n",
              "      <td>290</td>\n",
              "      <td>118</td>\n",
              "      <td>0.406897</td>\n",
              "    </tr>\n",
              "    <tr>\n",
              "      <th>17</th>\n",
              "      <td>17</td>\n",
              "      <td>The Alarmist</td>\n",
              "      <td>The sinking of the Titanic. The Irish potato f...</td>\n",
              "      <td>https://hips.hearstapps.com/hmg-prod.s3.amazon...</td>\n",
              "      <td>History is full of mistakes.</td>\n",
              "      <td>308</td>\n",
              "      <td>28</td>\n",
              "      <td>0.090909</td>\n",
              "    </tr>\n",
              "    <tr>\n",
              "      <th>18</th>\n",
              "      <td>18</td>\n",
              "      <td>Phoebe Reads a Mystery</td>\n",
              "      <td>If you're familiar with the seminal true crime...</td>\n",
              "      <td>https://hips.hearstapps.com/hmg-prod.s3.amazon...</td>\n",
              "      <td>Listen to Phoebe Judge read Agatha Christie in...</td>\n",
              "      <td>267</td>\n",
              "      <td>121</td>\n",
              "      <td>0.453184</td>\n",
              "    </tr>\n",
              "    <tr>\n",
              "      <th>19</th>\n",
              "      <td>19</td>\n",
              "      <td>In the Dark</td>\n",
              "      <td>The first season of this gripping investigativ...</td>\n",
              "      <td>https://hips.hearstapps.com/hmg-prod.s3.amazon...</td>\n",
              "      <td>In the second season of Serial, Madeleine Bara...</td>\n",
              "      <td>357</td>\n",
              "      <td>130</td>\n",
              "      <td>0.364146</td>\n",
              "    </tr>\n",
              "    <tr>\n",
              "      <th>20</th>\n",
              "      <td>20</td>\n",
              "      <td>Decoder Ring</td>\n",
              "      <td>For those of us who used to collect Snapple ca...</td>\n",
              "      <td>https://hips.hearstapps.com/hmg-prod.s3.amazon...</td>\n",
              "      <td>If you've ever wanted to know more about the w...</td>\n",
              "      <td>280</td>\n",
              "      <td>99</td>\n",
              "      <td>0.353571</td>\n",
              "    </tr>\n",
              "    <tr>\n",
              "      <th>21</th>\n",
              "      <td>21</td>\n",
              "      <td>10 Things That Scare Me</td>\n",
              "      <td>As the title suggests, this funny and relatabl...</td>\n",
              "      <td>https://hips.hearstapps.com/hmg-prod.s3.amazon...</td>\n",
              "      <td>In this week's episode of Fear Me, Fear Me, Fe...</td>\n",
              "      <td>290</td>\n",
              "      <td>54</td>\n",
              "      <td>0.186207</td>\n",
              "    </tr>\n",
              "    <tr>\n",
              "      <th>22</th>\n",
              "      <td>22</td>\n",
              "      <td>You're Wrong About</td>\n",
              "      <td>In this educational and entertaining podcast, ...</td>\n",
              "      <td>https://hips.hearstapps.com/hmg-prod.s3.amazon...</td>\n",
              "      <td>Have you ever wondered what the news was like ...</td>\n",
              "      <td>314</td>\n",
              "      <td>69</td>\n",
              "      <td>0.219745</td>\n",
              "    </tr>\n",
              "    <tr>\n",
              "      <th>23</th>\n",
              "      <td>23</td>\n",
              "      <td>Sawbones</td>\n",
              "      <td>Hypochondriacs or squeamish folk may want to s...</td>\n",
              "      <td>https://hips.hearstapps.com/hmg-prod.s3.amazon...</td>\n",
              "      <td>If you're a fan of healthy living and want to ...</td>\n",
              "      <td>277</td>\n",
              "      <td>113</td>\n",
              "      <td>0.407942</td>\n",
              "    </tr>\n",
              "    <tr>\n",
              "      <th>24</th>\n",
              "      <td>24</td>\n",
              "      <td>The Murder Squad</td>\n",
              "      <td>True crime lovers and amateur sleuths, grab yo...</td>\n",
              "      <td>https://hips.hearstapps.com/hmg-prod.s3.amazon...</td>\n",
              "      <td>Cold Case Files is back.</td>\n",
              "      <td>356</td>\n",
              "      <td>24</td>\n",
              "      <td>0.067416</td>\n",
              "    </tr>\n",
              "    <tr>\n",
              "      <th>25</th>\n",
              "      <td>25</td>\n",
              "      <td>1619</td>\n",
              "      <td>This five-part New York Times series by Hannah...</td>\n",
              "      <td>https://hips.hearstapps.com/hmg-prod.s3.amazon...</td>\n",
              "      <td>If you've ever wondered what it's like to be B...</td>\n",
              "      <td>254</td>\n",
              "      <td>91</td>\n",
              "      <td>0.358268</td>\n",
              "    </tr>\n",
              "    <tr>\n",
              "      <th>26</th>\n",
              "      <td>26</td>\n",
              "      <td>Here to Slay</td>\n",
              "      <td>Authors Roxane Gay and Tressie McMillan Cotton...</td>\n",
              "      <td>https://hips.hearstapps.com/hmg-prod.s3.amazon...</td>\n",
              "      <td>It's Black feminist week!</td>\n",
              "      <td>316</td>\n",
              "      <td>25</td>\n",
              "      <td>0.079114</td>\n",
              "    </tr>\n",
              "    <tr>\n",
              "      <th>27</th>\n",
              "      <td>27</td>\n",
              "      <td>How to Fail</td>\n",
              "      <td>Think everyone has it all together but you? Th...</td>\n",
              "      <td>https://hips.hearstapps.com/hmg-prod.s3.amazon...</td>\n",
              "      <td>Do you ever feel like you don't have it all to...</td>\n",
              "      <td>276</td>\n",
              "      <td>53</td>\n",
              "      <td>0.192029</td>\n",
              "    </tr>\n",
              "    <tr>\n",
              "      <th>28</th>\n",
              "      <td>28</td>\n",
              "      <td>Ear Hustle</td>\n",
              "      <td>If there's an Orange is the New Black-shaped h...</td>\n",
              "      <td>https://hips.hearstapps.com/hmg-prod.s3.amazon...</td>\n",
              "      <td>Have you ever wondered what it's like to be in...</td>\n",
              "      <td>353</td>\n",
              "      <td>54</td>\n",
              "      <td>0.152975</td>\n",
              "    </tr>\n",
              "    <tr>\n",
              "      <th>29</th>\n",
              "      <td>29</td>\n",
              "      <td>The Moth</td>\n",
              "      <td>True stories, told live without notes, make up...</td>\n",
              "      <td>https://hips.hearstapps.com/hmg-prod.s3.amazon...</td>\n",
              "      <td>If you want to know what it's like to be a pro...</td>\n",
              "      <td>276</td>\n",
              "      <td>104</td>\n",
              "      <td>0.376812</td>\n",
              "    </tr>\n",
              "    <tr>\n",
              "      <th>30</th>\n",
              "      <td>30</td>\n",
              "      <td>Judge John Hodgman</td>\n",
              "      <td>Sometimes, disputes between friends or partner...</td>\n",
              "      <td>https://hips.hearstapps.com/hmg-prod.s3.amazon...</td>\n",
              "      <td>On this week’s episode of the Judge John Hodgm...</td>\n",
              "      <td>330</td>\n",
              "      <td>123</td>\n",
              "      <td>0.372727</td>\n",
              "    </tr>\n",
              "    <tr>\n",
              "      <th>31</th>\n",
              "      <td>31</td>\n",
              "      <td>99% Invisible</td>\n",
              "      <td>For design nerds, architecture buffs, art love...</td>\n",
              "      <td>https://hips.hearstapps.com/hmg-prod.s3.amazon...</td>\n",
              "      <td>How do we understand the world around us?</td>\n",
              "      <td>254</td>\n",
              "      <td>41</td>\n",
              "      <td>0.161417</td>\n",
              "    </tr>\n",
              "    <tr>\n",
              "      <th>32</th>\n",
              "      <td>32</td>\n",
              "      <td>Radiolab</td>\n",
              "      <td>If you like your downtime with a side of educa...</td>\n",
              "      <td>https://hips.hearstapps.com/hmg-prod.s3.amazon...</td>\n",
              "      <td>Have you ever wondered what it's like to be a ...</td>\n",
              "      <td>267</td>\n",
              "      <td>54</td>\n",
              "      <td>0.202247</td>\n",
              "    </tr>\n",
              "    <tr>\n",
              "      <th>33</th>\n",
              "      <td>33</td>\n",
              "      <td>Radio Cherry Bombe</td>\n",
              "      <td>Grab a snack before you tune in to this delici...</td>\n",
              "      <td>https://hips.hearstapps.com/hmg-prod.s3.amazon...</td>\n",
              "      <td>Radio Cherry Bombe features interviews with so...</td>\n",
              "      <td>286</td>\n",
              "      <td>100</td>\n",
              "      <td>0.349650</td>\n",
              "    </tr>\n",
              "    <tr>\n",
              "      <th>34</th>\n",
              "      <td>34</td>\n",
              "      <td>The Mortified Podcast</td>\n",
              "      <td>We’ve all got that one embarrassing slip-up th...</td>\n",
              "      <td>https://hips.hearstapps.com/hmg-prod.s3.amazon...</td>\n",
              "      <td>Have you ever had a bad childhood moment?</td>\n",
              "      <td>326</td>\n",
              "      <td>41</td>\n",
              "      <td>0.125767</td>\n",
              "    </tr>\n",
              "    <tr>\n",
              "      <th>35</th>\n",
              "      <td>35</td>\n",
              "      <td>Adulting</td>\n",
              "      <td>We get it. Being an adult is hard. When you fe...</td>\n",
              "      <td>https://hips.hearstapps.com/hmg-prod.s3.amazon...</td>\n",
              "      <td>It's that time of year when you feel like you ...</td>\n",
              "      <td>305</td>\n",
              "      <td>82</td>\n",
              "      <td>0.268852</td>\n",
              "    </tr>\n",
              "    <tr>\n",
              "      <th>36</th>\n",
              "      <td>36</td>\n",
              "      <td>Where Should We Begin?</td>\n",
              "      <td>Real couples share their relationship struggle...</td>\n",
              "      <td>https://hips.hearstapps.com/hmg-prod.s3.amazon...</td>\n",
              "      <td>If you’ve ever wondered what it’s like to be i...</td>\n",
              "      <td>303</td>\n",
              "      <td>102</td>\n",
              "      <td>0.336634</td>\n",
              "    </tr>\n",
              "    <tr>\n",
              "      <th>37</th>\n",
              "      <td>37</td>\n",
              "      <td>On Being</td>\n",
              "      <td>Krista Tippett’s meditative podcast feels like...</td>\n",
              "      <td>https://hips.hearstapps.com/hmg-prod.s3.amazon...</td>\n",
              "      <td>All photographs by Krista Tippett.</td>\n",
              "      <td>295</td>\n",
              "      <td>34</td>\n",
              "      <td>0.115254</td>\n",
              "    </tr>\n",
              "    <tr>\n",
              "      <th>38</th>\n",
              "      <td>38</td>\n",
              "      <td>Death, Sex, and Money</td>\n",
              "      <td>The name says it all. This approachable, down-...</td>\n",
              "      <td>https://hips.hearstapps.com/hmg-prod.s3.amazon...</td>\n",
              "      <td>In our series of letters from African-American...</td>\n",
              "      <td>261</td>\n",
              "      <td>183</td>\n",
              "      <td>0.701149</td>\n",
              "    </tr>\n",
              "    <tr>\n",
              "      <th>39</th>\n",
              "      <td>39</td>\n",
              "      <td>Who? Weekly</td>\n",
              "      <td>If you’ve ever seen a convo about a certain ce...</td>\n",
              "      <td>https://hips.hearstapps.com/hmg-prod.s3.amazon...</td>\n",
              "      <td>On this week's episode of Celebrity Gossip, th...</td>\n",
              "      <td>337</td>\n",
              "      <td>76</td>\n",
              "      <td>0.225519</td>\n",
              "    </tr>\n",
              "    <tr>\n",
              "      <th>40</th>\n",
              "      <td>40</td>\n",
              "      <td>Sandra</td>\n",
              "      <td>Those who get creeped out by Alexa and Siri ma...</td>\n",
              "      <td>https://hips.hearstapps.com/hmg-prod.s3.amazon...</td>\n",
              "      <td>If you've ever wondered what it's like to work...</td>\n",
              "      <td>307</td>\n",
              "      <td>105</td>\n",
              "      <td>0.342020</td>\n",
              "    </tr>\n",
              "  </tbody>\n",
              "</table>\n",
              "</div>"
            ],
            "text/plain": [
              "    Unnamed: 0                        name  ... pegasus_length summary_ratio\n",
              "0            0               Becoming Wise  ...             52      0.238532\n",
              "1            1          Every Little Thing  ...            150      0.669643\n",
              "2            2       WE Well-Being Podcast  ...            105      0.502392\n",
              "3            3          This American Life  ...             91      0.291667\n",
              "4            4         Beautiful Anonymous  ...            108      0.291105\n",
              "5            5  The Michelle Obama Podcast  ...             85      0.344130\n",
              "6            6         Motherhood Sessions  ...             29      0.116935\n",
              "7            7        Call Your Girlfriend  ...            108      0.451883\n",
              "8            8          The Trend Reporter  ...            108      0.311239\n",
              "9            9      Dolly Parton's America  ...             77      0.313008\n",
              "10          10                      Serial  ...             46      0.183267\n",
              "11          11                      Fiasco  ...             81      0.300000\n",
              "12          12                   Dope Labs  ...            134      0.807229\n",
              "13          13                     Spooked  ...             52      0.225108\n",
              "14          14      How Did This Get Made?  ...            124      0.381538\n",
              "15          15      Why Won't You Date Me?  ...             62      0.187879\n",
              "16          16                     Keep It  ...            118      0.406897\n",
              "17          17                The Alarmist  ...             28      0.090909\n",
              "18          18      Phoebe Reads a Mystery  ...            121      0.453184\n",
              "19          19                 In the Dark  ...            130      0.364146\n",
              "20          20                Decoder Ring  ...             99      0.353571\n",
              "21          21     10 Things That Scare Me  ...             54      0.186207\n",
              "22          22          You're Wrong About  ...             69      0.219745\n",
              "23          23                    Sawbones  ...            113      0.407942\n",
              "24          24            The Murder Squad  ...             24      0.067416\n",
              "25          25                        1619  ...             91      0.358268\n",
              "26          26                Here to Slay  ...             25      0.079114\n",
              "27          27                 How to Fail  ...             53      0.192029\n",
              "28          28                  Ear Hustle  ...             54      0.152975\n",
              "29          29                    The Moth  ...            104      0.376812\n",
              "30          30          Judge John Hodgman  ...            123      0.372727\n",
              "31          31               99% Invisible  ...             41      0.161417\n",
              "32          32                    Radiolab  ...             54      0.202247\n",
              "33          33          Radio Cherry Bombe  ...            100      0.349650\n",
              "34          34       The Mortified Podcast  ...             41      0.125767\n",
              "35          35                    Adulting  ...             82      0.268852\n",
              "36          36      Where Should We Begin?  ...            102      0.336634\n",
              "37          37                    On Being  ...             34      0.115254\n",
              "38          38       Death, Sex, and Money  ...            183      0.701149\n",
              "39          39                 Who? Weekly  ...             76      0.225519\n",
              "40          40                      Sandra  ...            105      0.342020\n",
              "\n",
              "[41 rows x 8 columns]"
            ]
          },
          "metadata": {
            "tags": []
          },
          "execution_count": 91
        }
      ]
    },
    {
      "cell_type": "code",
      "metadata": {
        "id": "jlABdRVHHmgA"
      },
      "source": [
        "podcast_df[\"original_length\"] = 0\r\n",
        "podcast_df[\"pegasus_length\"] = 0"
      ],
      "execution_count": 86,
      "outputs": []
    },
    {
      "cell_type": "code",
      "metadata": {
        "colab": {
          "base_uri": "https://localhost:8080/"
        },
        "id": "ARBmWLLtHmjW",
        "outputId": "007cb6d9-7dde-42d0-d5cc-58a49c126af5"
      },
      "source": [
        "for j in range(41):\r\n",
        "  podcast_df[\"original_length\"][j] = len(podcast_df['description'][j])\r\n",
        "  podcast_df[\"pegasus_length\"][j] = len(podcast_df['short_summary'][j])"
      ],
      "execution_count": 87,
      "outputs": [
        {
          "output_type": "stream",
          "text": [
            "/usr/local/lib/python3.6/dist-packages/ipykernel_launcher.py:2: SettingWithCopyWarning: \n",
            "A value is trying to be set on a copy of a slice from a DataFrame\n",
            "\n",
            "See the caveats in the documentation: https://pandas.pydata.org/pandas-docs/stable/user_guide/indexing.html#returning-a-view-versus-a-copy\n",
            "  \n",
            "/usr/local/lib/python3.6/dist-packages/ipykernel_launcher.py:3: SettingWithCopyWarning: \n",
            "A value is trying to be set on a copy of a slice from a DataFrame\n",
            "\n",
            "See the caveats in the documentation: https://pandas.pydata.org/pandas-docs/stable/user_guide/indexing.html#returning-a-view-versus-a-copy\n",
            "  This is separate from the ipykernel package so we can avoid doing imports until\n"
          ],
          "name": "stderr"
        }
      ]
    },
    {
      "cell_type": "code",
      "metadata": {
        "id": "mz4fQMO3IiLA"
      },
      "source": [
        "podcast_df['summary_ratio'] = podcast_df['pegasus_length'] / podcast_df['original_length']"
      ],
      "execution_count": 90,
      "outputs": []
    },
    {
      "cell_type": "code",
      "metadata": {
        "colab": {
          "base_uri": "https://localhost:8080/"
        },
        "id": "0bEi2gr1Hmsx",
        "outputId": "83f74743-9745-4ef9-b66b-fbb873c45711"
      },
      "source": [
        "# Import Drive API and authenticate.\r\n",
        "from google.colab import drive\r\n",
        "\r\n",
        "# Mount your Drive to the Colab VM.\r\n",
        "drive.mount('/gdrive')\r\n",
        "\r\n",
        "# Write the DataFrame to CSV file.\r\n",
        "with open('/gdrive/My Drive/podcast_pegasus.csv', 'w') as f:\r\n",
        "  podcast_df.to_csv(f)"
      ],
      "execution_count": 96,
      "outputs": [
        {
          "output_type": "stream",
          "text": [
            "Drive already mounted at /gdrive; to attempt to forcibly remount, call drive.mount(\"/gdrive\", force_remount=True).\n"
          ],
          "name": "stdout"
        }
      ]
    },
    {
      "cell_type": "code",
      "metadata": {
        "id": "_snUScmtpAXV"
      },
      "source": [
        "podcast_df.to_csv(r'podcast_pegasus.csv')"
      ],
      "execution_count": 93,
      "outputs": []
    },
    {
      "cell_type": "markdown",
      "metadata": {
        "id": "vkAGqNZESu7S"
      },
      "source": [
        "### Pipelines"
      ]
    },
    {
      "cell_type": "code",
      "metadata": {
        "id": "PHXodeqBdBDt"
      },
      "source": [
        "tv_df['short_summary'] = short_summary\r\n"
      ],
      "execution_count": 56,
      "outputs": []
    },
    {
      "cell_type": "code",
      "metadata": {
        "id": "JAna_ZEqW7eN"
      },
      "source": [
        "from transformers import pipeline"
      ],
      "execution_count": null,
      "outputs": []
    },
    {
      "cell_type": "code",
      "metadata": {
        "id": "2o9uuAOhd9Ph"
      },
      "source": [
        ""
      ],
      "execution_count": null,
      "outputs": []
    },
    {
      "cell_type": "code",
      "metadata": {
        "id": "a0AoSVn-W-O2"
      },
      "source": [
        "nlp_summary = pipeline('summarization', model=model, tokenizer=tokenizer)"
      ],
      "execution_count": null,
      "outputs": []
    },
    {
      "cell_type": "code",
      "metadata": {
        "id": "gYnQ0Sa1W9uP",
        "colab": {
          "base_uri": "https://localhost:8080/"
        },
        "outputId": "bfd42dde-5283-43d3-a5e9-4bd0e52496a7"
      },
      "source": [
        "nlp_summary(src_text[0])"
      ],
      "execution_count": null,
      "outputs": [
        {
          "output_type": "stream",
          "text": [
            "Your max_length is set to 64, but you input_length is only 55. You might consider decreasing max_length manually, e.g. summarizer('...', max_length=50)\n"
          ],
          "name": "stderr"
        },
        {
          "output_type": "execute_result",
          "data": {
            "text/plain": [
              "[{'summary_text': \"California's largest electricity provider has turned off power to hundreds of thousands of customers.\"}]"
            ]
          },
          "metadata": {
            "tags": []
          },
          "execution_count": 17
        }
      ]
    },
    {
      "cell_type": "markdown",
      "metadata": {
        "id": "dqj9MvyQXVWE"
      },
      "source": [
        "### Wikipedia Random API"
      ]
    },
    {
      "cell_type": "code",
      "metadata": {
        "id": "SmYtqbNYSi_0"
      },
      "source": [
        "from urllib.request import urlopen\n",
        "import json\n",
        "\n",
        "def get_random_text():\n",
        "    with urlopen('https://en.wikipedia.org/api/rest_v1/page/random/summary') as f:\n",
        "        content = f.read().decode('utf-8')\n",
        "        json_dict = json.loads(content)\n",
        "        return json_dict['extract']"
      ],
      "execution_count": null,
      "outputs": []
    },
    {
      "cell_type": "code",
      "metadata": {
        "id": "58ZmT7b8S7VY"
      },
      "source": [
        "import pandas as pd\n",
        "\n",
        "class StatsData():\n",
        "    def __init__(self):\n",
        "        self.inputs = []\n",
        "        self.summaries = []\n",
        "        self.input_length = []\n",
        "        self.summary_length = []\n",
        "        \n",
        "    def add_text(self, input_text, summary):\n",
        "        self.inputs.append(input_text)\n",
        "        self.summaries.append(summary)\n",
        "        self.input_length.append(len(input_text))\n",
        "        self.summary_length.append(len(summary))\n",
        "        \n",
        "    def __repr__(self):\n",
        "        return f'Stats data with total length: {len(self.inputs)}'\n",
        "    \n",
        "    def create_df(self):\n",
        "        return pd.DataFrame({'input_text': self.inputs, 'summary': self.summaries, 'input_text_length': self.input_length, 'summary_length': self.summary_length})"
      ],
      "execution_count": null,
      "outputs": []
    },
    {
      "cell_type": "code",
      "metadata": {
        "id": "66-F0FV3S-HH",
        "colab": {
          "base_uri": "https://localhost:8080/",
          "height": 134,
          "referenced_widgets": [
            "785909a56dbb4b068f6665ad3a2bd5d9",
            "a90e42eebe074237835ea4df4a933a38",
            "b9666edc365d4ca5b09417ed92abf193",
            "21e2a7a9765143a09883c9643c3b2bf7",
            "132cdf644cb04fb9a2368cc5cd5492ab",
            "4c7e32cf68b8460bafac6c87fff627c3",
            "1025c27d51314507801088284edff5bc",
            "db2ceb033f8b4ed8ad489f7d82a1b4f6"
          ]
        },
        "outputId": "de573a81-2e1e-4a28-e2ff-2a886000f2f2"
      },
      "source": [
        "from tqdm.notebook import tqdm\n",
        "\n",
        "stats_data = StatsData()\n",
        "required_summaries = 10\n",
        "for i in tqdm(range(required_summaries), total=required_summaries):\n",
        "    text = get_random_text()\n",
        "    summary = nlp_summary(text)[0]['summary_text']\n",
        "    if len(text) > 120 and len(text) < 600:\n",
        "        stats_data.add_text(text, summary)\n",
        "    "
      ],
      "execution_count": null,
      "outputs": [
        {
          "output_type": "display_data",
          "data": {
            "application/vnd.jupyter.widget-view+json": {
              "model_id": "785909a56dbb4b068f6665ad3a2bd5d9",
              "version_minor": 0,
              "version_major": 2
            },
            "text/plain": [
              "HBox(children=(FloatProgress(value=0.0, max=10.0), HTML(value='')))"
            ]
          },
          "metadata": {
            "tags": []
          }
        },
        {
          "output_type": "stream",
          "text": [
            "Your max_length is set to 64, but you input_length is only 26. You might consider decreasing max_length manually, e.g. summarizer('...', max_length=50)\n",
            "Your max_length is set to 64, but you input_length is only 50. You might consider decreasing max_length manually, e.g. summarizer('...', max_length=50)\n",
            "Your max_length is set to 64, but you input_length is only 37. You might consider decreasing max_length manually, e.g. summarizer('...', max_length=50)\n",
            "Your max_length is set to 64, but you input_length is only 58. You might consider decreasing max_length manually, e.g. summarizer('...', max_length=50)\n"
          ],
          "name": "stderr"
        },
        {
          "output_type": "stream",
          "text": [
            "\n"
          ],
          "name": "stdout"
        }
      ]
    },
    {
      "cell_type": "code",
      "metadata": {
        "id": "K7QnNhOfVNl4"
      },
      "source": [
        "summary_data = stats_data.create_df()"
      ],
      "execution_count": null,
      "outputs": []
    },
    {
      "cell_type": "markdown",
      "metadata": {
        "id": "QDCYJGrfhlq_"
      },
      "source": [
        "Adding a column 'summary_ratio' which is the ration of summary length to original text length"
      ]
    },
    {
      "cell_type": "code",
      "metadata": {
        "id": "1o66GsKxeACU"
      },
      "source": [
        "summary_data['summary_ratio'] = summary_data['summary_length'] / summary_data['input_text_length']"
      ],
      "execution_count": null,
      "outputs": []
    },
    {
      "cell_type": "code",
      "metadata": {
        "id": "8_lTCcfeeFFx",
        "colab": {
          "base_uri": "https://localhost:8080/",
          "height": 297
        },
        "outputId": "af653a96-91b2-40b0-facd-740a5f63a4f6"
      },
      "source": [
        "summary_data"
      ],
      "execution_count": null,
      "outputs": [
        {
          "output_type": "execute_result",
          "data": {
            "text/html": [
              "<div>\n",
              "<style scoped>\n",
              "    .dataframe tbody tr th:only-of-type {\n",
              "        vertical-align: middle;\n",
              "    }\n",
              "\n",
              "    .dataframe tbody tr th {\n",
              "        vertical-align: top;\n",
              "    }\n",
              "\n",
              "    .dataframe thead th {\n",
              "        text-align: right;\n",
              "    }\n",
              "</style>\n",
              "<table border=\"1\" class=\"dataframe\">\n",
              "  <thead>\n",
              "    <tr style=\"text-align: right;\">\n",
              "      <th></th>\n",
              "      <th>input_text</th>\n",
              "      <th>summary</th>\n",
              "      <th>input_text_length</th>\n",
              "      <th>summary_length</th>\n",
              "      <th>summary_ratio</th>\n",
              "    </tr>\n",
              "  </thead>\n",
              "  <tbody>\n",
              "    <tr>\n",
              "      <th>0</th>\n",
              "      <td>\"Me, Myself and I\" is a song recorded by Ameri...</td>\n",
              "      <td>\"Me, Myself and I\" is a song recorded by Beyon...</td>\n",
              "      <td>586</td>\n",
              "      <td>109</td>\n",
              "      <td>0.186007</td>\n",
              "    </tr>\n",
              "    <tr>\n",
              "      <th>1</th>\n",
              "      <td>Føresvik is the administrative centre of Bokn ...</td>\n",
              "      <td>Fresvik is the administrative centre of Bokn m...</td>\n",
              "      <td>406</td>\n",
              "      <td>85</td>\n",
              "      <td>0.209360</td>\n",
              "    </tr>\n",
              "    <tr>\n",
              "      <th>2</th>\n",
              "      <td>The small sword or smallsword is a light one-h...</td>\n",
              "      <td>A selection of some of the best examples of th...</td>\n",
              "      <td>366</td>\n",
              "      <td>60</td>\n",
              "      <td>0.163934</td>\n",
              "    </tr>\n",
              "    <tr>\n",
              "      <th>3</th>\n",
              "      <td>Acton Beauchamp is a village and civil parish ...</td>\n",
              "      <td>Acton Beauchamp is a village and civil parish ...</td>\n",
              "      <td>227</td>\n",
              "      <td>225</td>\n",
              "      <td>0.991189</td>\n",
              "    </tr>\n",
              "    <tr>\n",
              "      <th>4</th>\n",
              "      <td>Vascões is a civil parish in the municipality ...</td>\n",
              "      <td>The parish of Vasces is in the north-east of P...</td>\n",
              "      <td>132</td>\n",
              "      <td>54</td>\n",
              "      <td>0.409091</td>\n",
              "    </tr>\n",
              "    <tr>\n",
              "      <th>5</th>\n",
              "      <td>\"Beauty Is Only Skin Deep\" is a 1964 song, wri...</td>\n",
              "      <td>\"Beauty Is Only Skin Deep\" is a 1964 song, wri...</td>\n",
              "      <td>275</td>\n",
              "      <td>122</td>\n",
              "      <td>0.443636</td>\n",
              "    </tr>\n",
              "    <tr>\n",
              "      <th>6</th>\n",
              "      <td>Sypień is a village in the administrative dist...</td>\n",
              "      <td>Sypie is a village in the administrative distr...</td>\n",
              "      <td>245</td>\n",
              "      <td>122</td>\n",
              "      <td>0.497959</td>\n",
              "    </tr>\n",
              "    <tr>\n",
              "      <th>7</th>\n",
              "      <td>Pintsch is a village in the commune of Kiischp...</td>\n",
              "      <td>Pintsch is a village in the commune of Kiischp...</td>\n",
              "      <td>321</td>\n",
              "      <td>74</td>\n",
              "      <td>0.230530</td>\n",
              "    </tr>\n",
              "  </tbody>\n",
              "</table>\n",
              "</div>"
            ],
            "text/plain": [
              "                                          input_text  ... summary_ratio\n",
              "0  \"Me, Myself and I\" is a song recorded by Ameri...  ...      0.186007\n",
              "1  Føresvik is the administrative centre of Bokn ...  ...      0.209360\n",
              "2  The small sword or smallsword is a light one-h...  ...      0.163934\n",
              "3  Acton Beauchamp is a village and civil parish ...  ...      0.991189\n",
              "4  Vascões is a civil parish in the municipality ...  ...      0.409091\n",
              "5  \"Beauty Is Only Skin Deep\" is a 1964 song, wri...  ...      0.443636\n",
              "6  Sypień is a village in the administrative dist...  ...      0.497959\n",
              "7  Pintsch is a village in the commune of Kiischp...  ...      0.230530\n",
              "\n",
              "[8 rows x 5 columns]"
            ]
          },
          "metadata": {
            "tags": []
          },
          "execution_count": 25
        }
      ]
    },
    {
      "cell_type": "code",
      "metadata": {
        "colab": {
          "base_uri": "https://localhost:8080/",
          "height": 52
        },
        "id": "u0Xd_3oGfQ25",
        "outputId": "23debec3-b1a6-4add-fab9-4ae88bf2dad8"
      },
      "source": [
        "summary_data['input_text'][7]"
      ],
      "execution_count": null,
      "outputs": [
        {
          "output_type": "execute_result",
          "data": {
            "application/vnd.google.colaboratory.intrinsic+json": {
              "type": "string"
            },
            "text/plain": [
              "'Pintsch is a village in the commune of Kiischpelt, in northern Luxembourg. As of 2006, the village has a population of 162. It was the site of intense fighting between German and American troops in the January 1945, and one of the last sites of conflict of the Battle of the Bulge, being reduced to ruins by the fighting.'"
            ]
          },
          "metadata": {
            "tags": []
          },
          "execution_count": 34
        }
      ]
    },
    {
      "cell_type": "code",
      "metadata": {
        "colab": {
          "base_uri": "https://localhost:8080/",
          "height": 35
        },
        "id": "89Gpz5c4fJEj",
        "outputId": "9f147f34-04ef-4bec-ec0f-b8447e209995"
      },
      "source": [
        "summary_data['summary'][7]"
      ],
      "execution_count": null,
      "outputs": [
        {
          "output_type": "execute_result",
          "data": {
            "application/vnd.google.colaboratory.intrinsic+json": {
              "type": "string"
            },
            "text/plain": [
              "'Pintsch is a village in the commune of Kiischpelt, in northern Luxembourg.'"
            ]
          },
          "metadata": {
            "tags": []
          },
          "execution_count": 35
        }
      ]
    },
    {
      "cell_type": "code",
      "metadata": {
        "id": "bIs3AMtXeHoj",
        "colab": {
          "base_uri": "https://localhost:8080/",
          "height": 401
        },
        "outputId": "4576e828-9854-4c04-effc-c6ca9b1f96ca"
      },
      "source": [
        "import seaborn as sb\n",
        "\n",
        "sb.distplot(summary_data['input_text_length'])\n",
        "sb.distplot(summary_data['summary_length']).set_title('Input Distribution / Summary Length Distribution')"
      ],
      "execution_count": null,
      "outputs": [
        {
          "output_type": "stream",
          "text": [
            "/usr/local/lib/python3.6/dist-packages/seaborn/distributions.py:2557: FutureWarning: `distplot` is a deprecated function and will be removed in a future version. Please adapt your code to use either `displot` (a figure-level function with similar flexibility) or `histplot` (an axes-level function for histograms).\n",
            "  warnings.warn(msg, FutureWarning)\n",
            "/usr/local/lib/python3.6/dist-packages/seaborn/distributions.py:2557: FutureWarning: `distplot` is a deprecated function and will be removed in a future version. Please adapt your code to use either `displot` (a figure-level function with similar flexibility) or `histplot` (an axes-level function for histograms).\n",
            "  warnings.warn(msg, FutureWarning)\n"
          ],
          "name": "stderr"
        },
        {
          "output_type": "execute_result",
          "data": {
            "text/plain": [
              "Text(0.5, 1.0, 'Input Distribution / Summary Length Distribution')"
            ]
          },
          "metadata": {
            "tags": []
          },
          "execution_count": 36
        },
        {
          "output_type": "display_data",
          "data": {
            "image/png": "[encoded data removed]",
            "text/plain": [
              "<Figure size 432x288 with 1 Axes>"
            ]
          },
          "metadata": {
            "tags": [],
            "needs_background": "light"
          }
        }
      ]
    },
    {
      "cell_type": "code",
      "metadata": {
        "id": "qll1l4LUeKpc",
        "colab": {
          "base_uri": "https://localhost:8080/",
          "height": 367
        },
        "outputId": "6cbc00a6-7264-48f0-ef69-da0779d762a1"
      },
      "source": [
        "sb.distplot(summary_data['summary_ratio']).set_title('Summary Ratio Distribution')"
      ],
      "execution_count": null,
      "outputs": [
        {
          "output_type": "stream",
          "text": [
            "/usr/local/lib/python3.6/dist-packages/seaborn/distributions.py:2557: FutureWarning: `distplot` is a deprecated function and will be removed in a future version. Please adapt your code to use either `displot` (a figure-level function with similar flexibility) or `histplot` (an axes-level function for histograms).\n",
            "  warnings.warn(msg, FutureWarning)\n"
          ],
          "name": "stderr"
        },
        {
          "output_type": "execute_result",
          "data": {
            "text/plain": [
              "Text(0.5, 1.0, 'Summary Ratio Distribution')"
            ]
          },
          "metadata": {
            "tags": []
          },
          "execution_count": 37
        },
        {
          "output_type": "display_data",
          "data": {
            "image/png": "[encoded data removed]",
            "text/plain": [
              "<Figure size 432x288 with 1 Axes>"
            ]
          },
          "metadata": {
            "tags": [],
            "needs_background": "light"
          }
        }
      ]
    },
    {
      "cell_type": "code",
      "metadata": {
        "id": "2CLdt7pUuk8h",
        "colab": {
          "base_uri": "https://localhost:8080/",
          "height": 35
        },
        "outputId": "dc6819c5-35f9-4081-c9c5-edf923a43b6a"
      },
      "source": [
        "f\"Mean summary ratio: {summary_data['summary_ratio'].mean()}\""
      ],
      "execution_count": null,
      "outputs": [
        {
          "output_type": "execute_result",
          "data": {
            "application/vnd.google.colaboratory.intrinsic+json": {
              "type": "string"
            },
            "text/plain": [
              "'Mean summary ratio: 0.39146329210106234'"
            ]
          },
          "metadata": {
            "tags": []
          },
          "execution_count": 38
        }
      ]
    },
    {
      "cell_type": "markdown",
      "metadata": {
        "id": "T7TlEBs4eNF6"
      },
      "source": [
        "### Spellchecking"
      ]
    },
    {
      "cell_type": "code",
      "metadata": {
        "id": "9-mdIgn4eQUV",
        "colab": {
          "base_uri": "https://localhost:8080/"
        },
        "outputId": "7ed4c202-5703-48f5-f520-8d743df7c143"
      },
      "source": [
        "import nltk\n",
        "import re\n",
        "from nltk.corpus import stopwords\n",
        "import itertools\n",
        "import collections\n",
        "\n",
        "nltk.download('stopwords')\n",
        "stop_words = set(stopwords.words('english'))"
      ],
      "execution_count": null,
      "outputs": [
        {
          "output_type": "stream",
          "text": [
            "[nltk_data] Downloading package stopwords to /root/nltk_data...\n",
            "[nltk_data]   Unzipping corpora/stopwords.zip.\n"
          ],
          "name": "stdout"
        }
      ]
    },
    {
      "cell_type": "code",
      "metadata": {
        "id": "UCiUPQ5veUUq"
      },
      "source": [
        "def remove_punctuation(txt):\n",
        "    \"\"\"Replace URLs and other punctuation found in a text string with nothing \n",
        "    (i.e. it will remove the URL from the string).\n",
        "\n",
        "    Parameters\n",
        "    ----------\n",
        "    txt : string\n",
        "        A text string that you want to parse and remove urls.\n",
        "\n",
        "    Returns\n",
        "    -------\n",
        "    The same txt string with URLs and punctuation removed.\n",
        "    \"\"\"\n",
        "\n",
        "    return \" \".join(re.sub(\"([^0-9A-Za-z \\t])|(\\w+:\\/\\/\\S+)\", \"\", txt).split())"
      ],
      "execution_count": null,
      "outputs": []
    },
    {
      "cell_type": "code",
      "metadata": {
        "id": "VD_v8uCbeWq-"
      },
      "source": [
        "def clean_text(txt):\n",
        "    \"\"\"Removes punctuation, changes to lowercase, removes\n",
        "        stopwords and calculates word frequencies.\n",
        "\n",
        "    Parameters\n",
        "    ----------\n",
        "    txt : string\n",
        "        A text string that you want to clean.\n",
        "\n",
        "    Returns\n",
        "    -------\n",
        "    Words and frequencies\n",
        "    \"\"\"\n",
        "    \n",
        "    tmp = [remove_punctuation(t) for t in txt]\n",
        "    tmp = [t.lower().split() for t in tmp]\n",
        "    \n",
        "    tmp = [[w for w in t if not w in stop_words]\n",
        "              for t in tmp]\n",
        "    \n",
        "    tmp = list(itertools.chain(*tmp))\n",
        "    tmp = collections.Counter(tmp)\n",
        "        \n",
        "    return list(tmp.keys())"
      ],
      "execution_count": null,
      "outputs": []
    },
    {
      "cell_type": "code",
      "metadata": {
        "id": "Alq900oIeYxd"
      },
      "source": [
        "summary_spell_check_words = clean_text(set(list(summary_data['summary'])))\n",
        "input_text_check_words = clean_text(set(list(summary_data['input_text'])))"
      ],
      "execution_count": null,
      "outputs": []
    },
    {
      "cell_type": "code",
      "metadata": {
        "id": "3jmj2JCVlbSC"
      },
      "source": [
        "from spellchecker import SpellChecker"
      ],
      "execution_count": null,
      "outputs": []
    },
    {
      "cell_type": "code",
      "metadata": {
        "id": "hJgXf_Koldbn",
        "colab": {
          "base_uri": "https://localhost:8080/"
        },
        "outputId": "575b687a-4526-45be-cfa1-fbb1dfabd177"
      },
      "source": [
        "spell = SpellChecker()\n",
        "\n",
        "# find those words that may be misspelled\n",
        "summary_misspelled = spell.unknown(summary_spell_check_words)\n",
        "original_misspelled = spell.unknown(input_text_check_words)\n",
        "len(summary_misspelled), len(original_misspelled)"
      ],
      "execution_count": null,
      "outputs": [
        {
          "output_type": "execute_result",
          "data": {
            "text/plain": [
              "(18, 37)"
            ]
          },
          "metadata": {
            "tags": []
          },
          "execution_count": 44
        }
      ]
    },
    {
      "cell_type": "code",
      "metadata": {
        "id": "TvT5h6A7vKHx",
        "colab": {
          "base_uri": "https://localhost:8080/",
          "height": 35
        },
        "outputId": "370a2b24-ee16-4c49-e716-bf5aee6f0f9c"
      },
      "source": [
        "f\"Summary mispelled ratio: {len(summary_misspelled) / len(summary_spell_check_words)}\""
      ],
      "execution_count": null,
      "outputs": [
        {
          "output_type": "execute_result",
          "data": {
            "application/vnd.google.colaboratory.intrinsic+json": {
              "type": "string"
            },
            "text/plain": [
              "'Summary mispelled ratio: 0.2535211267605634'"
            ]
          },
          "metadata": {
            "tags": []
          },
          "execution_count": 45
        }
      ]
    },
    {
      "cell_type": "code",
      "metadata": {
        "id": "K2cQ0T3IzwZF",
        "colab": {
          "base_uri": "https://localhost:8080/",
          "height": 35
        },
        "outputId": "a1565b40-f80e-4352-9dfc-c2792eab817a"
      },
      "source": [
        "f\"Original misspelled ratio: {len(original_misspelled) / len(input_text_check_words)}\""
      ],
      "execution_count": null,
      "outputs": [
        {
          "output_type": "execute_result",
          "data": {
            "application/vnd.google.colaboratory.intrinsic+json": {
              "type": "string"
            },
            "text/plain": [
              "'Original misspelled ratio: 0.19072164948453607'"
            ]
          },
          "metadata": {
            "tags": []
          },
          "execution_count": 46
        }
      ]
    },
    {
      "cell_type": "code",
      "metadata": {
        "id": "Z7B5FRb7lfaH",
        "colab": {
          "base_uri": "https://localhost:8080/",
          "height": 351
        },
        "outputId": "74fed480-c09c-4c65-81b9-be0e2f9e8c4d"
      },
      "source": [
        "misspelling_df = pd.DataFrame({'misspellings' : [\"summary_misspelled\" for _ in range(len(summary_misspelled))] + [\"input_misspelled\" for _ in range(len(original_misspelled))]})\n",
        "\n",
        "sb.countplot(misspelling_df['misspellings'])"
      ],
      "execution_count": null,
      "outputs": [
        {
          "output_type": "stream",
          "text": [
            "/usr/local/lib/python3.6/dist-packages/seaborn/_decorators.py:43: FutureWarning: Pass the following variable as a keyword arg: x. From version 0.12, the only valid positional argument will be `data`, and passing other arguments without an explicit keyword will result in an error or misinterpretation.\n",
            "  FutureWarning\n"
          ],
          "name": "stderr"
        },
        {
          "output_type": "execute_result",
          "data": {
            "text/plain": [
              "<matplotlib.axes._subplots.AxesSubplot at 0x7fd68f0f0668>"
            ]
          },
          "metadata": {
            "tags": []
          },
          "execution_count": 47
        },
        {
          "output_type": "display_data",
          "data": {
            "image/png": "[encoded data removed]",
            "text/plain": [
              "<Figure size 432x288 with 1 Axes>"
            ]
          },
          "metadata": {
            "tags": [],
            "needs_background": "light"
          }
        }
      ]
    },
    {
      "cell_type": "markdown",
      "metadata": {
        "id": "HFWnMFgPliR5"
      },
      "source": [
        "### Generate HTML for Visual Proofreading"
      ]
    },
    {
      "cell_type": "code",
      "metadata": {
        "id": "HxVlgPVkll96"
      },
      "source": [
        "table_data = \"\"\n",
        "for i, d in summary_data.iterrows():\n",
        "    table_data += f\"<tr><td>{d['input_text']}</td><td>{d['summary']}</td></tr>\""
      ],
      "execution_count": null,
      "outputs": []
    },
    {
      "cell_type": "code",
      "metadata": {
        "id": "Vfn7lE2Mlp4x"
      },
      "source": [
        "simple_visual_check = f\"\"\"\n",
        "<html>\n",
        "<body>\n",
        "<table>\n",
        "    <tr><th>Original</th><th>Input Text</th></tr>\n",
        "    {table_data}\n",
        "</table>\n",
        "</body>\n",
        "</html>\n",
        "\"\"\""
      ],
      "execution_count": null,
      "outputs": []
    },
    {
      "cell_type": "code",
      "metadata": {
        "id": "SWoipVislsJs"
      },
      "source": [
        "with open('visual_check.html', 'w') as f:\n",
        "    f.write(simple_visual_check)"
      ],
      "execution_count": null,
      "outputs": []
    },
    {
      "cell_type": "code",
      "metadata": {
        "id": "OP392UbAluXT"
      },
      "source": [
        ""
      ],
      "execution_count": null,
      "outputs": []
    }
  ]
}